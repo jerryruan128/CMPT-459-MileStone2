{
 "cells": [
  {
   "cell_type": "markdown",
   "metadata": {},
   "source": [
    "Boosting Tree"
   ]
  },
  {
   "cell_type": "code",
   "execution_count": 1,
   "metadata": {},
   "outputs": [
    {
     "data": {
      "text/plain": [
       "(456759, 22)"
      ]
     },
     "execution_count": 1,
     "metadata": {},
     "output_type": "execute_result"
    }
   ],
   "source": [
    "import pandas as pd\n",
    "newdata = pd.read_csv(\"newfile.csv\")\n",
    "newdata = newdata.dropna()\n",
    "newdata.shape\n"
   ]
  },
  {
   "cell_type": "code",
   "execution_count": 2,
   "metadata": {},
   "outputs": [],
   "source": [
    "from sklearn import preprocessing\n",
    "le = preprocessing.LabelEncoder()\n",
    "for col in ['sex', 'Last_Update','province', 'country','Country_Region','additional_information','source','outcome','Combined_Key','Combined_Key','date_confirmation','Combined_Key','Province_State']:\n",
    "    le = le.fit(newdata[col])\n",
    "    newdata[col] = le.transform(newdata[col])"
   ]
  },
  {
   "cell_type": "code",
   "execution_count": 3,
   "metadata": {},
   "outputs": [
    {
     "data": {
      "text/html": [
       "<div>\n",
       "<style scoped>\n",
       "    .dataframe tbody tr th:only-of-type {\n",
       "        vertical-align: middle;\n",
       "    }\n",
       "\n",
       "    .dataframe tbody tr th {\n",
       "        vertical-align: top;\n",
       "    }\n",
       "\n",
       "    .dataframe thead th {\n",
       "        text-align: right;\n",
       "    }\n",
       "</style>\n",
       "<table border=\"1\" class=\"dataframe\">\n",
       "  <thead>\n",
       "    <tr style=\"text-align: right;\">\n",
       "      <th></th>\n",
       "      <th>age</th>\n",
       "      <th>sex</th>\n",
       "      <th>province</th>\n",
       "      <th>country</th>\n",
       "      <th>latitude</th>\n",
       "      <th>longitude</th>\n",
       "      <th>date_confirmation</th>\n",
       "      <th>additional_information</th>\n",
       "      <th>source</th>\n",
       "      <th>outcome</th>\n",
       "      <th>...</th>\n",
       "      <th>Last_Update</th>\n",
       "      <th>Lat</th>\n",
       "      <th>Long_</th>\n",
       "      <th>Confirmed</th>\n",
       "      <th>Deaths</th>\n",
       "      <th>Recovered</th>\n",
       "      <th>Active</th>\n",
       "      <th>Combined_Key</th>\n",
       "      <th>Incidence_Rate</th>\n",
       "      <th>Case-Fatality_Ratio</th>\n",
       "    </tr>\n",
       "  </thead>\n",
       "  <tbody>\n",
       "    <tr>\n",
       "      <th>0</th>\n",
       "      <td>43.0</td>\n",
       "      <td>2</td>\n",
       "      <td>104</td>\n",
       "      <td>49</td>\n",
       "      <td>23.02776</td>\n",
       "      <td>72.600270</td>\n",
       "      <td>74</td>\n",
       "      <td>7017</td>\n",
       "      <td>866</td>\n",
       "      <td>1</td>\n",
       "      <td>...</td>\n",
       "      <td>0</td>\n",
       "      <td>22.694884</td>\n",
       "      <td>71.590923</td>\n",
       "      <td>120336.0</td>\n",
       "      <td>3286.0</td>\n",
       "      <td>100974.0</td>\n",
       "      <td>16076.0</td>\n",
       "      <td>143</td>\n",
       "      <td>188.400627</td>\n",
       "      <td>2.730687</td>\n",
       "    </tr>\n",
       "    <tr>\n",
       "      <th>2</th>\n",
       "      <td>94.0</td>\n",
       "      <td>0</td>\n",
       "      <td>149</td>\n",
       "      <td>84</td>\n",
       "      <td>-12.04318</td>\n",
       "      <td>-77.028240</td>\n",
       "      <td>74</td>\n",
       "      <td>7017</td>\n",
       "      <td>8120</td>\n",
       "      <td>2</td>\n",
       "      <td>...</td>\n",
       "      <td>0</td>\n",
       "      <td>-11.766533</td>\n",
       "      <td>-76.604498</td>\n",
       "      <td>349167.0</td>\n",
       "      <td>14009.0</td>\n",
       "      <td>0.0</td>\n",
       "      <td>335158.0</td>\n",
       "      <td>201</td>\n",
       "      <td>3285.195465</td>\n",
       "      <td>4.012120</td>\n",
       "    </tr>\n",
       "    <tr>\n",
       "      <th>3</th>\n",
       "      <td>43.0</td>\n",
       "      <td>2</td>\n",
       "      <td>104</td>\n",
       "      <td>49</td>\n",
       "      <td>23.02776</td>\n",
       "      <td>72.600270</td>\n",
       "      <td>110</td>\n",
       "      <td>7017</td>\n",
       "      <td>7364</td>\n",
       "      <td>1</td>\n",
       "      <td>...</td>\n",
       "      <td>0</td>\n",
       "      <td>22.694884</td>\n",
       "      <td>71.590923</td>\n",
       "      <td>120336.0</td>\n",
       "      <td>3286.0</td>\n",
       "      <td>100974.0</td>\n",
       "      <td>16076.0</td>\n",
       "      <td>143</td>\n",
       "      <td>188.400627</td>\n",
       "      <td>2.730687</td>\n",
       "    </tr>\n",
       "    <tr>\n",
       "      <th>5</th>\n",
       "      <td>29.0</td>\n",
       "      <td>0</td>\n",
       "      <td>123</td>\n",
       "      <td>84</td>\n",
       "      <td>-14.09402</td>\n",
       "      <td>-75.702840</td>\n",
       "      <td>139</td>\n",
       "      <td>7017</td>\n",
       "      <td>8120</td>\n",
       "      <td>2</td>\n",
       "      <td>...</td>\n",
       "      <td>0</td>\n",
       "      <td>-14.235097</td>\n",
       "      <td>-75.574821</td>\n",
       "      <td>25278.0</td>\n",
       "      <td>1546.0</td>\n",
       "      <td>0.0</td>\n",
       "      <td>23732.0</td>\n",
       "      <td>164</td>\n",
       "      <td>2592.083675</td>\n",
       "      <td>6.115990</td>\n",
       "    </tr>\n",
       "    <tr>\n",
       "      <th>6</th>\n",
       "      <td>43.0</td>\n",
       "      <td>2</td>\n",
       "      <td>74</td>\n",
       "      <td>49</td>\n",
       "      <td>28.61474</td>\n",
       "      <td>77.209100</td>\n",
       "      <td>4</td>\n",
       "      <td>7017</td>\n",
       "      <td>5656</td>\n",
       "      <td>1</td>\n",
       "      <td>...</td>\n",
       "      <td>0</td>\n",
       "      <td>28.646519</td>\n",
       "      <td>77.108980</td>\n",
       "      <td>238828.0</td>\n",
       "      <td>4907.0</td>\n",
       "      <td>201671.0</td>\n",
       "      <td>32250.0</td>\n",
       "      <td>97</td>\n",
       "      <td>1276.409575</td>\n",
       "      <td>2.054617</td>\n",
       "    </tr>\n",
       "    <tr>\n",
       "      <th>7</th>\n",
       "      <td>43.0</td>\n",
       "      <td>2</td>\n",
       "      <td>160</td>\n",
       "      <td>49</td>\n",
       "      <td>18.94017</td>\n",
       "      <td>72.834830</td>\n",
       "      <td>152</td>\n",
       "      <td>7017</td>\n",
       "      <td>666</td>\n",
       "      <td>1</td>\n",
       "      <td>...</td>\n",
       "      <td>0</td>\n",
       "      <td>19.449759</td>\n",
       "      <td>76.108221</td>\n",
       "      <td>1167496.0</td>\n",
       "      <td>31791.0</td>\n",
       "      <td>834432.0</td>\n",
       "      <td>301273.0</td>\n",
       "      <td>214</td>\n",
       "      <td>948.072083</td>\n",
       "      <td>2.723007</td>\n",
       "    </tr>\n",
       "    <tr>\n",
       "      <th>8</th>\n",
       "      <td>47.0</td>\n",
       "      <td>0</td>\n",
       "      <td>170</td>\n",
       "      <td>40</td>\n",
       "      <td>53.79233</td>\n",
       "      <td>13.801800</td>\n",
       "      <td>93</td>\n",
       "      <td>7017</td>\n",
       "      <td>8120</td>\n",
       "      <td>2</td>\n",
       "      <td>...</td>\n",
       "      <td>0</td>\n",
       "      <td>53.612700</td>\n",
       "      <td>12.429600</td>\n",
       "      <td>1105.0</td>\n",
       "      <td>20.0</td>\n",
       "      <td>1014.0</td>\n",
       "      <td>71.0</td>\n",
       "      <td>229</td>\n",
       "      <td>68.647398</td>\n",
       "      <td>1.809955</td>\n",
       "    </tr>\n",
       "    <tr>\n",
       "      <th>9</th>\n",
       "      <td>43.0</td>\n",
       "      <td>2</td>\n",
       "      <td>312</td>\n",
       "      <td>49</td>\n",
       "      <td>23.79776</td>\n",
       "      <td>87.986406</td>\n",
       "      <td>52</td>\n",
       "      <td>289</td>\n",
       "      <td>7825</td>\n",
       "      <td>1</td>\n",
       "      <td>...</td>\n",
       "      <td>0</td>\n",
       "      <td>23.814082</td>\n",
       "      <td>87.979803</td>\n",
       "      <td>218772.0</td>\n",
       "      <td>4242.0</td>\n",
       "      <td>190021.0</td>\n",
       "      <td>24509.0</td>\n",
       "      <td>410</td>\n",
       "      <td>219.630088</td>\n",
       "      <td>1.939005</td>\n",
       "    </tr>\n",
       "    <tr>\n",
       "      <th>10</th>\n",
       "      <td>47.0</td>\n",
       "      <td>1</td>\n",
       "      <td>31</td>\n",
       "      <td>40</td>\n",
       "      <td>49.24681</td>\n",
       "      <td>11.090850</td>\n",
       "      <td>17</td>\n",
       "      <td>7017</td>\n",
       "      <td>8120</td>\n",
       "      <td>2</td>\n",
       "      <td>...</td>\n",
       "      <td>0</td>\n",
       "      <td>48.790400</td>\n",
       "      <td>11.497900</td>\n",
       "      <td>64465.0</td>\n",
       "      <td>2648.0</td>\n",
       "      <td>56398.0</td>\n",
       "      <td>5419.0</td>\n",
       "      <td>40</td>\n",
       "      <td>492.975265</td>\n",
       "      <td>4.107655</td>\n",
       "    </tr>\n",
       "    <tr>\n",
       "      <th>12</th>\n",
       "      <td>51.0</td>\n",
       "      <td>0</td>\n",
       "      <td>149</td>\n",
       "      <td>84</td>\n",
       "      <td>-11.93298</td>\n",
       "      <td>-77.040850</td>\n",
       "      <td>105</td>\n",
       "      <td>7017</td>\n",
       "      <td>8120</td>\n",
       "      <td>2</td>\n",
       "      <td>...</td>\n",
       "      <td>0</td>\n",
       "      <td>-11.766533</td>\n",
       "      <td>-76.604498</td>\n",
       "      <td>349167.0</td>\n",
       "      <td>14009.0</td>\n",
       "      <td>0.0</td>\n",
       "      <td>335158.0</td>\n",
       "      <td>201</td>\n",
       "      <td>3285.195465</td>\n",
       "      <td>4.012120</td>\n",
       "    </tr>\n",
       "  </tbody>\n",
       "</table>\n",
       "<p>10 rows × 22 columns</p>\n",
       "</div>"
      ],
      "text/plain": [
       "     age  sex  province  country  latitude  longitude  date_confirmation  \\\n",
       "0   43.0    2       104       49  23.02776  72.600270                 74   \n",
       "2   94.0    0       149       84 -12.04318 -77.028240                 74   \n",
       "3   43.0    2       104       49  23.02776  72.600270                110   \n",
       "5   29.0    0       123       84 -14.09402 -75.702840                139   \n",
       "6   43.0    2        74       49  28.61474  77.209100                  4   \n",
       "7   43.0    2       160       49  18.94017  72.834830                152   \n",
       "8   47.0    0       170       40  53.79233  13.801800                 93   \n",
       "9   43.0    2       312       49  23.79776  87.986406                 52   \n",
       "10  47.0    1        31       40  49.24681  11.090850                 17   \n",
       "12  51.0    0       149       84 -11.93298 -77.040850                105   \n",
       "\n",
       "    additional_information  source  outcome  ...  Last_Update        Lat  \\\n",
       "0                     7017     866        1  ...            0  22.694884   \n",
       "2                     7017    8120        2  ...            0 -11.766533   \n",
       "3                     7017    7364        1  ...            0  22.694884   \n",
       "5                     7017    8120        2  ...            0 -14.235097   \n",
       "6                     7017    5656        1  ...            0  28.646519   \n",
       "7                     7017     666        1  ...            0  19.449759   \n",
       "8                     7017    8120        2  ...            0  53.612700   \n",
       "9                      289    7825        1  ...            0  23.814082   \n",
       "10                    7017    8120        2  ...            0  48.790400   \n",
       "12                    7017    8120        2  ...            0 -11.766533   \n",
       "\n",
       "        Long_  Confirmed   Deaths  Recovered    Active  Combined_Key  \\\n",
       "0   71.590923   120336.0   3286.0   100974.0   16076.0           143   \n",
       "2  -76.604498   349167.0  14009.0        0.0  335158.0           201   \n",
       "3   71.590923   120336.0   3286.0   100974.0   16076.0           143   \n",
       "5  -75.574821    25278.0   1546.0        0.0   23732.0           164   \n",
       "6   77.108980   238828.0   4907.0   201671.0   32250.0            97   \n",
       "7   76.108221  1167496.0  31791.0   834432.0  301273.0           214   \n",
       "8   12.429600     1105.0     20.0     1014.0      71.0           229   \n",
       "9   87.979803   218772.0   4242.0   190021.0   24509.0           410   \n",
       "10  11.497900    64465.0   2648.0    56398.0    5419.0            40   \n",
       "12 -76.604498   349167.0  14009.0        0.0  335158.0           201   \n",
       "\n",
       "    Incidence_Rate  Case-Fatality_Ratio  \n",
       "0       188.400627             2.730687  \n",
       "2      3285.195465             4.012120  \n",
       "3       188.400627             2.730687  \n",
       "5      2592.083675             6.115990  \n",
       "6      1276.409575             2.054617  \n",
       "7       948.072083             2.723007  \n",
       "8        68.647398             1.809955  \n",
       "9       219.630088             1.939005  \n",
       "10      492.975265             4.107655  \n",
       "12     3285.195465             4.012120  \n",
       "\n",
       "[10 rows x 22 columns]"
      ]
     },
     "execution_count": 3,
     "metadata": {},
     "output_type": "execute_result"
    }
   ],
   "source": [
    "newdata.head(10)"
   ]
  },
  {
   "cell_type": "markdown",
   "metadata": {},
   "source": [
    "Now we have to do the feature selection, I judge the selection by 3 methods: correlation coefficient, PCA, and feature importance for the boostingtree(get it after training and redo the training when drop the features)"
   ]
  },
  {
   "cell_type": "markdown",
   "metadata": {},
   "source": [
    "Analaysis the correlation coefficient between features and outcome using method Spearman"
   ]
  },
  {
   "cell_type": "code",
   "execution_count": 4,
   "metadata": {},
   "outputs": [],
   "source": [
    "corrdata = newdata.corr(method='spearman')['outcome']"
   ]
  },
  {
   "cell_type": "code",
   "execution_count": 5,
   "metadata": {},
   "outputs": [
    {
     "data": {
      "text/plain": [
       "<bound method Series.sort_values of age                       0.063901\n",
       "sex                      -0.151700\n",
       "province                 -0.057162\n",
       "country                   0.041883\n",
       "latitude                 -0.016817\n",
       "longitude                -0.245517\n",
       "date_confirmation         0.024868\n",
       "additional_information    0.072715\n",
       "source                    0.130861\n",
       "outcome                   1.000000\n",
       "Province_State           -0.057162\n",
       "Country_Region            0.041883\n",
       "Last_Update                    NaN\n",
       "Lat                      -0.020569\n",
       "Long_                    -0.257147\n",
       "Confirmed                -0.184023\n",
       "Deaths                   -0.111009\n",
       "Recovered                -0.269020\n",
       "Active                   -0.080459\n",
       "Combined_Key             -0.063834\n",
       "Incidence_Rate            0.048303\n",
       "Case-Fatality_Ratio       0.232926\n",
       "Name: outcome, dtype: float64>"
      ]
     },
     "execution_count": 5,
     "metadata": {},
     "output_type": "execute_result"
    }
   ],
   "source": [
    "corrdata.sort_values"
   ]
  },
  {
   "cell_type": "code",
   "execution_count": 6,
   "metadata": {},
   "outputs": [
    {
     "data": {
      "text/plain": [
       "<bound method NDFrame.head of          age  sex  province  country  latitude  longitude  date_confirmation  \\\n",
       "0       43.0    2       104       49  23.02776   72.60027                 74   \n",
       "2       94.0    0       149       84 -12.04318  -77.02824                 74   \n",
       "3       43.0    2       104       49  23.02776   72.60027                110   \n",
       "5       29.0    0       123       84 -14.09402  -75.70284                139   \n",
       "6       43.0    2        74       49  28.61474   77.20910                  4   \n",
       "...      ...  ...       ...      ...       ...        ...                ...   \n",
       "557359  56.0    1        46       84 -12.04175  -77.09082                 74   \n",
       "557360  43.0    2       160       49  18.94017   72.83483                145   \n",
       "557361  43.0    2       160       49  19.03681   73.01582                 95   \n",
       "557362  25.0    0       279       49  13.08362   80.28252                152   \n",
       "557363  43.0    2       237       49  26.26691   73.03052                 38   \n",
       "\n",
       "        additional_information  source  outcome  ...  Last_Update        Lat  \\\n",
       "0                         7017     866        1  ...            0  22.694884   \n",
       "2                         7017    8120        2  ...            0 -11.766533   \n",
       "3                         7017    7364        1  ...            0  22.694884   \n",
       "5                         7017    8120        2  ...            0 -14.235097   \n",
       "6                         7017    5656        1  ...            0  28.646519   \n",
       "...                        ...     ...      ...  ...          ...        ...   \n",
       "557359                    7017    8120        2  ...            0 -11.954609   \n",
       "557360                    7017     664        3  ...            0  19.449759   \n",
       "557361                    7017    8120        3  ...            0  19.449759   \n",
       "557362                    7017    4781        1  ...            0  11.006091   \n",
       "557363                    7017    5466        3  ...            0  26.583423   \n",
       "\n",
       "            Long_  Confirmed   Deaths  Recovered    Active  Combined_Key  \\\n",
       "0       71.590923   120336.0   3286.0   100974.0   16076.0           143   \n",
       "2      -76.604498   349167.0  14009.0        0.0  335158.0           201   \n",
       "3       71.590923   120336.0   3286.0   100974.0   16076.0           143   \n",
       "5      -75.574821    25278.0   1546.0        0.0   23732.0           164   \n",
       "6       77.108980   238828.0   4907.0   201671.0   32250.0            97   \n",
       "...           ...        ...      ...        ...       ...           ...   \n",
       "557359 -77.136042    30730.0   1687.0        0.0   29043.0            63   \n",
       "557360  76.108221  1167496.0  31791.0   834432.0  301273.0           214   \n",
       "557361  76.108221  1167496.0  31791.0   834432.0  301273.0           214   \n",
       "557362  78.400624   530908.0   8685.0   475717.0   46506.0           369   \n",
       "557363  73.847973   111290.0   1308.0    92265.0   17717.0           312   \n",
       "\n",
       "        Incidence_Rate  Case-Fatality_Ratio  \n",
       "0           188.400627             2.730687  \n",
       "2          3285.195465             4.012120  \n",
       "3           188.400627             2.730687  \n",
       "5          2592.083675             6.115990  \n",
       "6          1276.409575             2.054617  \n",
       "...                ...                  ...  \n",
       "557359     2719.709709             5.489749  \n",
       "557360      948.072083             2.723007  \n",
       "557361      948.072083             2.723007  \n",
       "557362      682.039258             1.635877  \n",
       "557363      137.339636             1.175308  \n",
       "\n",
       "[456759 rows x 22 columns]>"
      ]
     },
     "execution_count": 6,
     "metadata": {},
     "output_type": "execute_result"
    }
   ],
   "source": [
    "newdata.head"
   ]
  },
  {
   "cell_type": "code",
   "execution_count": 7,
   "metadata": {},
   "outputs": [
    {
     "name": "stdout",
     "output_type": "stream",
     "text": [
      "[(0.953733, 'province'), (0.046206, 'country'), (4.4e-05, 'latitude'), (1.4e-05, 'longitude'), (2e-06, 'date_confirmation'), (1e-06, 'additional_information'), (0.0, 'source'), (0.0, 'Province_State')]\n"
     ]
    }
   ],
   "source": [
    "from sklearn.decomposition import PCA\n",
    "pca = PCA(copy=True, n_components=8)\n",
    "pca.fit(newdata.drop(columns=['outcome','age','sex']))\n",
    "print(sorted(zip(map(lambda x: round(x, 6), pca.explained_variance_ratio_), newdata.drop(columns=['outcome','age','sex']).columns), reverse=True))"
   ]
  },
  {
   "cell_type": "code",
   "execution_count": 8,
   "metadata": {
    "scrolled": true
   },
   "outputs": [
    {
     "data": {
      "text/plain": [
       "country              0.041883\n",
       "latitude            -0.016817\n",
       "date_confirmation    0.024868\n",
       "Country_Region       0.041883\n",
       "Lat                 -0.020569\n",
       "Incidence_Rate       0.048303\n",
       "Name: outcome, dtype: float64"
      ]
     },
     "execution_count": 8,
     "metadata": {},
     "output_type": "execute_result"
    }
   ],
   "source": [
    "corrdata[abs(corrdata) < 0.05]"
   ]
  },
  {
   "cell_type": "code",
   "execution_count": 9,
   "metadata": {},
   "outputs": [],
   "source": [
    "newdata = newdata.drop(columns=['Country_Region','Confirmed','province','Last_Update','country','Recovered','Deaths'])"
   ]
  },
  {
   "cell_type": "markdown",
   "metadata": {},
   "source": [
    "Now split the newdata into trainset and test set with raito 80%/20%"
   ]
  },
  {
   "cell_type": "code",
   "execution_count": 10,
   "metadata": {},
   "outputs": [],
   "source": [
    "trainsetRatio = 0.8\n",
    "\n",
    "trainset = newdata.sample(frac=trainsetRatio,random_state=11,axis=0)\n",
    "testset = newdata[~newdata.index.isin(trainset.index)]"
   ]
  },
  {
   "cell_type": "code",
   "execution_count": 11,
   "metadata": {},
   "outputs": [
    {
     "data": {
      "text/plain": [
       "(365407, 15)"
      ]
     },
     "execution_count": 11,
     "metadata": {},
     "output_type": "execute_result"
    }
   ],
   "source": [
    "trainset.shape"
   ]
  },
  {
   "cell_type": "code",
   "execution_count": 12,
   "metadata": {},
   "outputs": [
    {
     "data": {
      "text/plain": [
       "(91352, 15)"
      ]
     },
     "execution_count": 12,
     "metadata": {},
     "output_type": "execute_result"
    }
   ],
   "source": [
    "testset.shape"
   ]
  },
  {
   "cell_type": "code",
   "execution_count": 13,
   "metadata": {},
   "outputs": [
    {
     "data": {
      "text/html": [
       "<div>\n",
       "<style scoped>\n",
       "    .dataframe tbody tr th:only-of-type {\n",
       "        vertical-align: middle;\n",
       "    }\n",
       "\n",
       "    .dataframe tbody tr th {\n",
       "        vertical-align: top;\n",
       "    }\n",
       "\n",
       "    .dataframe thead th {\n",
       "        text-align: right;\n",
       "    }\n",
       "</style>\n",
       "<table border=\"1\" class=\"dataframe\">\n",
       "  <thead>\n",
       "    <tr style=\"text-align: right;\">\n",
       "      <th></th>\n",
       "      <th>age</th>\n",
       "      <th>sex</th>\n",
       "      <th>latitude</th>\n",
       "      <th>longitude</th>\n",
       "      <th>date_confirmation</th>\n",
       "      <th>additional_information</th>\n",
       "      <th>source</th>\n",
       "      <th>outcome</th>\n",
       "      <th>Province_State</th>\n",
       "      <th>Lat</th>\n",
       "      <th>Long_</th>\n",
       "      <th>Active</th>\n",
       "      <th>Combined_Key</th>\n",
       "      <th>Incidence_Rate</th>\n",
       "      <th>Case-Fatality_Ratio</th>\n",
       "    </tr>\n",
       "  </thead>\n",
       "  <tbody>\n",
       "    <tr>\n",
       "      <th>469998</th>\n",
       "      <td>24.0</td>\n",
       "      <td>1</td>\n",
       "      <td>48.13641</td>\n",
       "      <td>11.57754</td>\n",
       "      <td>133</td>\n",
       "      <td>7017</td>\n",
       "      <td>8120</td>\n",
       "      <td>2</td>\n",
       "      <td>31</td>\n",
       "      <td>48.790400</td>\n",
       "      <td>11.497900</td>\n",
       "      <td>5419.0</td>\n",
       "      <td>40</td>\n",
       "      <td>492.975265</td>\n",
       "      <td>4.107655</td>\n",
       "    </tr>\n",
       "    <tr>\n",
       "      <th>178309</th>\n",
       "      <td>43.0</td>\n",
       "      <td>2</td>\n",
       "      <td>28.61474</td>\n",
       "      <td>77.20910</td>\n",
       "      <td>85</td>\n",
       "      <td>7017</td>\n",
       "      <td>5855</td>\n",
       "      <td>3</td>\n",
       "      <td>74</td>\n",
       "      <td>28.646519</td>\n",
       "      <td>77.108980</td>\n",
       "      <td>32250.0</td>\n",
       "      <td>97</td>\n",
       "      <td>1276.409575</td>\n",
       "      <td>2.054617</td>\n",
       "    </tr>\n",
       "    <tr>\n",
       "      <th>366522</th>\n",
       "      <td>43.0</td>\n",
       "      <td>2</td>\n",
       "      <td>23.02776</td>\n",
       "      <td>72.60027</td>\n",
       "      <td>18</td>\n",
       "      <td>7017</td>\n",
       "      <td>6240</td>\n",
       "      <td>1</td>\n",
       "      <td>104</td>\n",
       "      <td>22.694884</td>\n",
       "      <td>71.590923</td>\n",
       "      <td>16076.0</td>\n",
       "      <td>143</td>\n",
       "      <td>188.400627</td>\n",
       "      <td>2.730687</td>\n",
       "    </tr>\n",
       "    <tr>\n",
       "      <th>278164</th>\n",
       "      <td>43.0</td>\n",
       "      <td>2</td>\n",
       "      <td>18.94017</td>\n",
       "      <td>72.83483</td>\n",
       "      <td>85</td>\n",
       "      <td>7017</td>\n",
       "      <td>8120</td>\n",
       "      <td>1</td>\n",
       "      <td>160</td>\n",
       "      <td>19.449759</td>\n",
       "      <td>76.108221</td>\n",
       "      <td>301273.0</td>\n",
       "      <td>214</td>\n",
       "      <td>948.072083</td>\n",
       "      <td>2.723007</td>\n",
       "    </tr>\n",
       "    <tr>\n",
       "      <th>336234</th>\n",
       "      <td>26.0</td>\n",
       "      <td>1</td>\n",
       "      <td>13.08362</td>\n",
       "      <td>80.28252</td>\n",
       "      <td>13</td>\n",
       "      <td>7017</td>\n",
       "      <td>4743</td>\n",
       "      <td>1</td>\n",
       "      <td>279</td>\n",
       "      <td>11.006091</td>\n",
       "      <td>78.400624</td>\n",
       "      <td>46506.0</td>\n",
       "      <td>369</td>\n",
       "      <td>682.039258</td>\n",
       "      <td>1.635877</td>\n",
       "    </tr>\n",
       "    <tr>\n",
       "      <th>131185</th>\n",
       "      <td>43.0</td>\n",
       "      <td>2</td>\n",
       "      <td>19.03681</td>\n",
       "      <td>73.01582</td>\n",
       "      <td>80</td>\n",
       "      <td>7017</td>\n",
       "      <td>4905</td>\n",
       "      <td>3</td>\n",
       "      <td>160</td>\n",
       "      <td>19.449759</td>\n",
       "      <td>76.108221</td>\n",
       "      <td>301273.0</td>\n",
       "      <td>214</td>\n",
       "      <td>948.072083</td>\n",
       "      <td>2.723007</td>\n",
       "    </tr>\n",
       "    <tr>\n",
       "      <th>532353</th>\n",
       "      <td>43.0</td>\n",
       "      <td>2</td>\n",
       "      <td>31.63347</td>\n",
       "      <td>74.87507</td>\n",
       "      <td>80</td>\n",
       "      <td>7017</td>\n",
       "      <td>6794</td>\n",
       "      <td>3</td>\n",
       "      <td>228</td>\n",
       "      <td>30.841465</td>\n",
       "      <td>75.408790</td>\n",
       "      <td>21662.0</td>\n",
       "      <td>302</td>\n",
       "      <td>307.991942</td>\n",
       "      <td>2.917066</td>\n",
       "    </tr>\n",
       "    <tr>\n",
       "      <th>112933</th>\n",
       "      <td>43.0</td>\n",
       "      <td>2</td>\n",
       "      <td>23.55173</td>\n",
       "      <td>74.44429</td>\n",
       "      <td>64</td>\n",
       "      <td>7017</td>\n",
       "      <td>4896</td>\n",
       "      <td>1</td>\n",
       "      <td>237</td>\n",
       "      <td>26.583423</td>\n",
       "      <td>73.847973</td>\n",
       "      <td>17717.0</td>\n",
       "      <td>312</td>\n",
       "      <td>137.339636</td>\n",
       "      <td>1.175308</td>\n",
       "    </tr>\n",
       "    <tr>\n",
       "      <th>386642</th>\n",
       "      <td>43.0</td>\n",
       "      <td>2</td>\n",
       "      <td>26.90000</td>\n",
       "      <td>75.80000</td>\n",
       "      <td>52</td>\n",
       "      <td>7017</td>\n",
       "      <td>5197</td>\n",
       "      <td>1</td>\n",
       "      <td>237</td>\n",
       "      <td>26.583423</td>\n",
       "      <td>73.847973</td>\n",
       "      <td>17717.0</td>\n",
       "      <td>312</td>\n",
       "      <td>137.339636</td>\n",
       "      <td>1.175308</td>\n",
       "    </tr>\n",
       "    <tr>\n",
       "      <th>503774</th>\n",
       "      <td>43.0</td>\n",
       "      <td>2</td>\n",
       "      <td>28.61474</td>\n",
       "      <td>77.20910</td>\n",
       "      <td>115</td>\n",
       "      <td>7017</td>\n",
       "      <td>5583</td>\n",
       "      <td>3</td>\n",
       "      <td>74</td>\n",
       "      <td>28.646519</td>\n",
       "      <td>77.108980</td>\n",
       "      <td>32250.0</td>\n",
       "      <td>97</td>\n",
       "      <td>1276.409575</td>\n",
       "      <td>2.054617</td>\n",
       "    </tr>\n",
       "  </tbody>\n",
       "</table>\n",
       "</div>"
      ],
      "text/plain": [
       "         age  sex  latitude  longitude  date_confirmation  \\\n",
       "469998  24.0    1  48.13641   11.57754                133   \n",
       "178309  43.0    2  28.61474   77.20910                 85   \n",
       "366522  43.0    2  23.02776   72.60027                 18   \n",
       "278164  43.0    2  18.94017   72.83483                 85   \n",
       "336234  26.0    1  13.08362   80.28252                 13   \n",
       "131185  43.0    2  19.03681   73.01582                 80   \n",
       "532353  43.0    2  31.63347   74.87507                 80   \n",
       "112933  43.0    2  23.55173   74.44429                 64   \n",
       "386642  43.0    2  26.90000   75.80000                 52   \n",
       "503774  43.0    2  28.61474   77.20910                115   \n",
       "\n",
       "        additional_information  source  outcome  Province_State        Lat  \\\n",
       "469998                    7017    8120        2              31  48.790400   \n",
       "178309                    7017    5855        3              74  28.646519   \n",
       "366522                    7017    6240        1             104  22.694884   \n",
       "278164                    7017    8120        1             160  19.449759   \n",
       "336234                    7017    4743        1             279  11.006091   \n",
       "131185                    7017    4905        3             160  19.449759   \n",
       "532353                    7017    6794        3             228  30.841465   \n",
       "112933                    7017    4896        1             237  26.583423   \n",
       "386642                    7017    5197        1             237  26.583423   \n",
       "503774                    7017    5583        3              74  28.646519   \n",
       "\n",
       "            Long_    Active  Combined_Key  Incidence_Rate  Case-Fatality_Ratio  \n",
       "469998  11.497900    5419.0            40      492.975265             4.107655  \n",
       "178309  77.108980   32250.0            97     1276.409575             2.054617  \n",
       "366522  71.590923   16076.0           143      188.400627             2.730687  \n",
       "278164  76.108221  301273.0           214      948.072083             2.723007  \n",
       "336234  78.400624   46506.0           369      682.039258             1.635877  \n",
       "131185  76.108221  301273.0           214      948.072083             2.723007  \n",
       "532353  75.408790   21662.0           302      307.991942             2.917066  \n",
       "112933  73.847973   17717.0           312      137.339636             1.175308  \n",
       "386642  73.847973   17717.0           312      137.339636             1.175308  \n",
       "503774  77.108980   32250.0            97     1276.409575             2.054617  "
      ]
     },
     "execution_count": 13,
     "metadata": {},
     "output_type": "execute_result"
    }
   ],
   "source": [
    "trainset.head(10)"
   ]
  },
  {
   "cell_type": "code",
   "execution_count": 14,
   "metadata": {},
   "outputs": [],
   "source": [
    "trainy = trainset['outcome']\n",
    "trainX = trainset.drop(columns=['outcome'])\n",
    "testy = testset['outcome']\n",
    "testX = testset.drop(columns=['outcome'])"
   ]
  },
  {
   "cell_type": "code",
   "execution_count": 15,
   "metadata": {},
   "outputs": [
    {
     "data": {
      "text/html": [
       "<div>\n",
       "<style scoped>\n",
       "    .dataframe tbody tr th:only-of-type {\n",
       "        vertical-align: middle;\n",
       "    }\n",
       "\n",
       "    .dataframe tbody tr th {\n",
       "        vertical-align: top;\n",
       "    }\n",
       "\n",
       "    .dataframe thead th {\n",
       "        text-align: right;\n",
       "    }\n",
       "</style>\n",
       "<table border=\"1\" class=\"dataframe\">\n",
       "  <thead>\n",
       "    <tr style=\"text-align: right;\">\n",
       "      <th></th>\n",
       "      <th>age</th>\n",
       "      <th>sex</th>\n",
       "      <th>latitude</th>\n",
       "      <th>longitude</th>\n",
       "      <th>date_confirmation</th>\n",
       "      <th>additional_information</th>\n",
       "      <th>source</th>\n",
       "      <th>Province_State</th>\n",
       "      <th>Lat</th>\n",
       "      <th>Long_</th>\n",
       "      <th>Active</th>\n",
       "      <th>Combined_Key</th>\n",
       "      <th>Incidence_Rate</th>\n",
       "      <th>Case-Fatality_Ratio</th>\n",
       "    </tr>\n",
       "  </thead>\n",
       "  <tbody>\n",
       "    <tr>\n",
       "      <th>469998</th>\n",
       "      <td>24.0</td>\n",
       "      <td>1</td>\n",
       "      <td>48.136410</td>\n",
       "      <td>11.577540</td>\n",
       "      <td>133</td>\n",
       "      <td>7017</td>\n",
       "      <td>8120</td>\n",
       "      <td>31</td>\n",
       "      <td>48.790400</td>\n",
       "      <td>11.497900</td>\n",
       "      <td>5419.0</td>\n",
       "      <td>40</td>\n",
       "      <td>492.975265</td>\n",
       "      <td>4.107655</td>\n",
       "    </tr>\n",
       "    <tr>\n",
       "      <th>178309</th>\n",
       "      <td>43.0</td>\n",
       "      <td>2</td>\n",
       "      <td>28.614740</td>\n",
       "      <td>77.209100</td>\n",
       "      <td>85</td>\n",
       "      <td>7017</td>\n",
       "      <td>5855</td>\n",
       "      <td>74</td>\n",
       "      <td>28.646519</td>\n",
       "      <td>77.108980</td>\n",
       "      <td>32250.0</td>\n",
       "      <td>97</td>\n",
       "      <td>1276.409575</td>\n",
       "      <td>2.054617</td>\n",
       "    </tr>\n",
       "    <tr>\n",
       "      <th>366522</th>\n",
       "      <td>43.0</td>\n",
       "      <td>2</td>\n",
       "      <td>23.027760</td>\n",
       "      <td>72.600270</td>\n",
       "      <td>18</td>\n",
       "      <td>7017</td>\n",
       "      <td>6240</td>\n",
       "      <td>104</td>\n",
       "      <td>22.694884</td>\n",
       "      <td>71.590923</td>\n",
       "      <td>16076.0</td>\n",
       "      <td>143</td>\n",
       "      <td>188.400627</td>\n",
       "      <td>2.730687</td>\n",
       "    </tr>\n",
       "    <tr>\n",
       "      <th>278164</th>\n",
       "      <td>43.0</td>\n",
       "      <td>2</td>\n",
       "      <td>18.940170</td>\n",
       "      <td>72.834830</td>\n",
       "      <td>85</td>\n",
       "      <td>7017</td>\n",
       "      <td>8120</td>\n",
       "      <td>160</td>\n",
       "      <td>19.449759</td>\n",
       "      <td>76.108221</td>\n",
       "      <td>301273.0</td>\n",
       "      <td>214</td>\n",
       "      <td>948.072083</td>\n",
       "      <td>2.723007</td>\n",
       "    </tr>\n",
       "    <tr>\n",
       "      <th>336234</th>\n",
       "      <td>26.0</td>\n",
       "      <td>1</td>\n",
       "      <td>13.083620</td>\n",
       "      <td>80.282520</td>\n",
       "      <td>13</td>\n",
       "      <td>7017</td>\n",
       "      <td>4743</td>\n",
       "      <td>279</td>\n",
       "      <td>11.006091</td>\n",
       "      <td>78.400624</td>\n",
       "      <td>46506.0</td>\n",
       "      <td>369</td>\n",
       "      <td>682.039258</td>\n",
       "      <td>1.635877</td>\n",
       "    </tr>\n",
       "    <tr>\n",
       "      <th>...</th>\n",
       "      <td>...</td>\n",
       "      <td>...</td>\n",
       "      <td>...</td>\n",
       "      <td>...</td>\n",
       "      <td>...</td>\n",
       "      <td>...</td>\n",
       "      <td>...</td>\n",
       "      <td>...</td>\n",
       "      <td>...</td>\n",
       "      <td>...</td>\n",
       "      <td>...</td>\n",
       "      <td>...</td>\n",
       "      <td>...</td>\n",
       "      <td>...</td>\n",
       "    </tr>\n",
       "    <tr>\n",
       "      <th>883</th>\n",
       "      <td>43.0</td>\n",
       "      <td>2</td>\n",
       "      <td>18.504220</td>\n",
       "      <td>73.853020</td>\n",
       "      <td>69</td>\n",
       "      <td>7017</td>\n",
       "      <td>4897</td>\n",
       "      <td>160</td>\n",
       "      <td>19.449759</td>\n",
       "      <td>76.108221</td>\n",
       "      <td>301273.0</td>\n",
       "      <td>214</td>\n",
       "      <td>948.072083</td>\n",
       "      <td>2.723007</td>\n",
       "    </tr>\n",
       "    <tr>\n",
       "      <th>395094</th>\n",
       "      <td>50.0</td>\n",
       "      <td>1</td>\n",
       "      <td>28.998600</td>\n",
       "      <td>77.704420</td>\n",
       "      <td>138</td>\n",
       "      <td>7017</td>\n",
       "      <td>27</td>\n",
       "      <td>296</td>\n",
       "      <td>26.925425</td>\n",
       "      <td>80.560982</td>\n",
       "      <td>67825.0</td>\n",
       "      <td>393</td>\n",
       "      <td>144.099577</td>\n",
       "      <td>1.420411</td>\n",
       "    </tr>\n",
       "    <tr>\n",
       "      <th>174176</th>\n",
       "      <td>47.0</td>\n",
       "      <td>1</td>\n",
       "      <td>49.452993</td>\n",
       "      <td>8.110168</td>\n",
       "      <td>134</td>\n",
       "      <td>7017</td>\n",
       "      <td>8120</td>\n",
       "      <td>238</td>\n",
       "      <td>50.118300</td>\n",
       "      <td>7.309000</td>\n",
       "      <td>771.0</td>\n",
       "      <td>313</td>\n",
       "      <td>246.643446</td>\n",
       "      <td>2.451613</td>\n",
       "    </tr>\n",
       "    <tr>\n",
       "      <th>29745</th>\n",
       "      <td>43.0</td>\n",
       "      <td>2</td>\n",
       "      <td>19.870100</td>\n",
       "      <td>75.346020</td>\n",
       "      <td>125</td>\n",
       "      <td>7017</td>\n",
       "      <td>8120</td>\n",
       "      <td>160</td>\n",
       "      <td>19.449759</td>\n",
       "      <td>76.108221</td>\n",
       "      <td>301273.0</td>\n",
       "      <td>214</td>\n",
       "      <td>948.072083</td>\n",
       "      <td>2.723007</td>\n",
       "    </tr>\n",
       "    <tr>\n",
       "      <th>162370</th>\n",
       "      <td>47.0</td>\n",
       "      <td>0</td>\n",
       "      <td>49.974220</td>\n",
       "      <td>9.147130</td>\n",
       "      <td>118</td>\n",
       "      <td>7017</td>\n",
       "      <td>8120</td>\n",
       "      <td>31</td>\n",
       "      <td>48.790400</td>\n",
       "      <td>11.497900</td>\n",
       "      <td>5419.0</td>\n",
       "      <td>40</td>\n",
       "      <td>492.975265</td>\n",
       "      <td>4.107655</td>\n",
       "    </tr>\n",
       "  </tbody>\n",
       "</table>\n",
       "<p>365407 rows × 14 columns</p>\n",
       "</div>"
      ],
      "text/plain": [
       "         age  sex   latitude  longitude  date_confirmation  \\\n",
       "469998  24.0    1  48.136410  11.577540                133   \n",
       "178309  43.0    2  28.614740  77.209100                 85   \n",
       "366522  43.0    2  23.027760  72.600270                 18   \n",
       "278164  43.0    2  18.940170  72.834830                 85   \n",
       "336234  26.0    1  13.083620  80.282520                 13   \n",
       "...      ...  ...        ...        ...                ...   \n",
       "883     43.0    2  18.504220  73.853020                 69   \n",
       "395094  50.0    1  28.998600  77.704420                138   \n",
       "174176  47.0    1  49.452993   8.110168                134   \n",
       "29745   43.0    2  19.870100  75.346020                125   \n",
       "162370  47.0    0  49.974220   9.147130                118   \n",
       "\n",
       "        additional_information  source  Province_State        Lat      Long_  \\\n",
       "469998                    7017    8120              31  48.790400  11.497900   \n",
       "178309                    7017    5855              74  28.646519  77.108980   \n",
       "366522                    7017    6240             104  22.694884  71.590923   \n",
       "278164                    7017    8120             160  19.449759  76.108221   \n",
       "336234                    7017    4743             279  11.006091  78.400624   \n",
       "...                        ...     ...             ...        ...        ...   \n",
       "883                       7017    4897             160  19.449759  76.108221   \n",
       "395094                    7017      27             296  26.925425  80.560982   \n",
       "174176                    7017    8120             238  50.118300   7.309000   \n",
       "29745                     7017    8120             160  19.449759  76.108221   \n",
       "162370                    7017    8120              31  48.790400  11.497900   \n",
       "\n",
       "          Active  Combined_Key  Incidence_Rate  Case-Fatality_Ratio  \n",
       "469998    5419.0            40      492.975265             4.107655  \n",
       "178309   32250.0            97     1276.409575             2.054617  \n",
       "366522   16076.0           143      188.400627             2.730687  \n",
       "278164  301273.0           214      948.072083             2.723007  \n",
       "336234   46506.0           369      682.039258             1.635877  \n",
       "...          ...           ...             ...                  ...  \n",
       "883     301273.0           214      948.072083             2.723007  \n",
       "395094   67825.0           393      144.099577             1.420411  \n",
       "174176     771.0           313      246.643446             2.451613  \n",
       "29745   301273.0           214      948.072083             2.723007  \n",
       "162370    5419.0            40      492.975265             4.107655  \n",
       "\n",
       "[365407 rows x 14 columns]"
      ]
     },
     "execution_count": 15,
     "metadata": {},
     "output_type": "execute_result"
    }
   ],
   "source": [
    "trainX"
   ]
  },
  {
   "cell_type": "code",
   "execution_count": 16,
   "metadata": {},
   "outputs": [
    {
     "data": {
      "text/plain": [
       "469998    2\n",
       "178309    3\n",
       "366522    1\n",
       "278164    1\n",
       "336234    1\n",
       "         ..\n",
       "883       3\n",
       "395094    1\n",
       "174176    2\n",
       "29745     3\n",
       "162370    2\n",
       "Name: outcome, Length: 365407, dtype: int32"
      ]
     },
     "execution_count": 16,
     "metadata": {},
     "output_type": "execute_result"
    }
   ],
   "source": [
    "trainy"
   ]
  },
  {
   "cell_type": "code",
   "execution_count": 17,
   "metadata": {},
   "outputs": [],
   "source": [
    "from sklearn.ensemble import GradientBoostingClassifier\n",
    "from sklearn import metrics\n",
    "from sklearn.model_selection import GridSearchCV\n",
    "gbm0 = GradientBoostingClassifier(n_estimators=100, learning_rate=1.0,max_depth=3, random_state=0)"
   ]
  },
  {
   "cell_type": "code",
   "execution_count": 18,
   "metadata": {},
   "outputs": [
    {
     "data": {
      "text/plain": [
       "age                          43.000000\n",
       "sex                           2.000000\n",
       "latitude                     28.614740\n",
       "longitude                    77.209100\n",
       "date_confirmation            85.000000\n",
       "additional_information     7017.000000\n",
       "source                     5855.000000\n",
       "Province_State               74.000000\n",
       "Lat                          28.646519\n",
       "Long_                        77.108980\n",
       "Active                    32250.000000\n",
       "Combined_Key                 97.000000\n",
       "Incidence_Rate             1276.409575\n",
       "Case-Fatality_Ratio           2.054617\n",
       "Name: 178309, dtype: float64"
      ]
     },
     "execution_count": 18,
     "metadata": {},
     "output_type": "execute_result"
    }
   ],
   "source": [
    "trainX.iloc[1]"
   ]
  },
  {
   "cell_type": "code",
   "execution_count": 19,
   "metadata": {},
   "outputs": [],
   "source": [
    "gbm0.fit(trainX,trainy)\n",
    "y_pred = gbm0.predict(testX)\n",
    "y_predprob = gbm0.predict_proba(testX)[:,1]"
   ]
  },
  {
   "cell_type": "code",
   "execution_count": 20,
   "metadata": {},
   "outputs": [
    {
     "name": "stdout",
     "output_type": "stream",
     "text": [
      "Features sorted by their score:\n",
      "[(0.71964, 'Long_'), (0.06808, 'source'), (0.06572, 'sex'), (0.04223, 'longitude'), (0.02142, 'additional_information'), (0.01963, 'date_confirmation'), (0.01483, 'Lat'), (0.01381, 'latitude'), (0.01048, 'Incidence_Rate'), (0.01044, 'Active'), (0.00896, 'Case-Fatality_Ratio'), (0.00206, 'Province_State'), (0.00173, 'Combined_Key'), (0.00098, 'age')]\n"
     ]
    }
   ],
   "source": [
    "print(\"Features sorted by their score:\")\n",
    "print(sorted(zip(map(lambda x: round(x, 5), gbm0.feature_importances_), trainX.columns), reverse=True))"
   ]
  },
  {
   "cell_type": "code",
   "execution_count": 21,
   "metadata": {},
   "outputs": [
    {
     "data": {
      "text/plain": [
       "array([[11.4979  ],\n",
       "       [77.10898 ],\n",
       "       [71.590923],\n",
       "       ...,\n",
       "       [ 7.309   ],\n",
       "       [76.108221],\n",
       "       [11.4979  ]])"
      ]
     },
     "execution_count": 21,
     "metadata": {},
     "output_type": "execute_result"
    }
   ],
   "source": [
    "from sklearn.feature_selection import SelectFromModel\n",
    "model = SelectFromModel(gbm0, prefit=True)\n",
    "model.transform(trainX)"
   ]
  },
  {
   "cell_type": "code",
   "execution_count": 22,
   "metadata": {
    "scrolled": true
   },
   "outputs": [
    {
     "data": {
      "text/plain": [
       "1"
      ]
     },
     "execution_count": 22,
     "metadata": {},
     "output_type": "execute_result"
    }
   ],
   "source": [
    "testy[0]"
   ]
  },
  {
   "cell_type": "markdown",
   "metadata": {},
   "source": [
    "accuracy aka true ratio"
   ]
  },
  {
   "cell_type": "code",
   "execution_count": 23,
   "metadata": {},
   "outputs": [
    {
     "data": {
      "text/plain": [
       "0.8662645590682196"
      ]
     },
     "execution_count": 23,
     "metadata": {},
     "output_type": "execute_result"
    }
   ],
   "source": [
    "metrics.accuracy_score(testy, y_pred)"
   ]
  },
  {
   "cell_type": "markdown",
   "metadata": {},
   "source": [
    "calculated from the precision and recall"
   ]
  },
  {
   "cell_type": "code",
   "execution_count": 24,
   "metadata": {},
   "outputs": [
    {
     "data": {
      "text/plain": [
       "0.6665540130381786"
      ]
     },
     "execution_count": 24,
     "metadata": {},
     "output_type": "execute_result"
    }
   ],
   "source": [
    "metrics.f1_score(testy, y_pred,average='macro')"
   ]
  },
  {
   "cell_type": "markdown",
   "metadata": {},
   "source": [
    "ratio of predicted true values are excactly true"
   ]
  },
  {
   "cell_type": "code",
   "execution_count": 25,
   "metadata": {},
   "outputs": [
    {
     "data": {
      "text/plain": [
       "0.790277137520393"
      ]
     },
     "execution_count": 25,
     "metadata": {},
     "output_type": "execute_result"
    }
   ],
   "source": [
    "metrics.precision_score(testy, y_pred,average='macro')"
   ]
  },
  {
   "cell_type": "markdown",
   "metadata": {},
   "source": [
    "ratio of true values are predicted as true"
   ]
  },
  {
   "cell_type": "code",
   "execution_count": 26,
   "metadata": {},
   "outputs": [
    {
     "data": {
      "text/plain": [
       "0.644280563708466"
      ]
     },
     "execution_count": 26,
     "metadata": {},
     "output_type": "execute_result"
    }
   ],
   "source": [
    "metrics.recall_score(testy,y_pred,average='macro')"
   ]
  },
  {
   "cell_type": "markdown",
   "metadata": {},
   "source": [
    "matrix for confusion(real value VS predicted value"
   ]
  },
  {
   "cell_type": "code",
   "execution_count": 27,
   "metadata": {},
   "outputs": [
    {
     "data": {
      "text/plain": [
       "array([[   96,   790,     7,   165],\n",
       "       [   18, 36371,     1,  2969],\n",
       "       [   42,     6, 32044,    17],\n",
       "       [    7,  8147,    48, 10624]], dtype=int64)"
      ]
     },
     "execution_count": 27,
     "metadata": {},
     "output_type": "execute_result"
    }
   ],
   "source": [
    "metrics.confusion_matrix(testy,y_pred)"
   ]
  },
  {
   "cell_type": "markdown",
   "metadata": {},
   "source": [
    "Now check if the model overfitting   \n",
    "I evaluate the the accuracy, precision score and f1 acore of traning dataset   \n",
    "They are very close to the performance in testing dataset   \n",
    "So there is no overfitting in my model  "
   ]
  },
  {
   "cell_type": "code",
   "execution_count": 28,
   "metadata": {},
   "outputs": [],
   "source": [
    "y_train_pre = gbm0.predict(trainX)"
   ]
  },
  {
   "cell_type": "code",
   "execution_count": 29,
   "metadata": {},
   "outputs": [
    {
     "data": {
      "text/plain": [
       "0.8674190696948881"
      ]
     },
     "execution_count": 29,
     "metadata": {},
     "output_type": "execute_result"
    }
   ],
   "source": [
    "metrics.accuracy_score(trainy, y_train_pre)"
   ]
  },
  {
   "cell_type": "code",
   "execution_count": 30,
   "metadata": {},
   "outputs": [
    {
     "data": {
      "text/plain": [
       "0.6691715461992762"
      ]
     },
     "execution_count": 30,
     "metadata": {},
     "output_type": "execute_result"
    }
   ],
   "source": [
    "metrics.f1_score(trainy, y_train_pre,average='macro')"
   ]
  },
  {
   "cell_type": "code",
   "execution_count": 31,
   "metadata": {},
   "outputs": [
    {
     "data": {
      "text/plain": [
       "0.7863175538976039"
      ]
     },
     "execution_count": 31,
     "metadata": {},
     "output_type": "execute_result"
    }
   ],
   "source": [
    "metrics.precision_score(trainy, y_train_pre,average='macro')"
   ]
  },
  {
   "cell_type": "code",
   "execution_count": null,
   "metadata": {},
   "outputs": [],
   "source": []
  }
 ],
 "metadata": {
  "kernelspec": {
   "display_name": "Python 3",
   "language": "python",
   "name": "python3"
  },
  "language_info": {
   "codemirror_mode": {
    "name": "ipython",
    "version": 3
   },
   "file_extension": ".py",
   "mimetype": "text/x-python",
   "name": "python",
   "nbconvert_exporter": "python",
   "pygments_lexer": "ipython3",
   "version": "3.6.4"
  }
 },
 "nbformat": 4,
 "nbformat_minor": 4
}
