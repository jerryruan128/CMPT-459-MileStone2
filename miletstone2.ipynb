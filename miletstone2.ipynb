{
 "cells": [
  {
   "cell_type": "code",
   "execution_count": 1,
   "metadata": {},
   "outputs": [],
   "source": [
    "import pandas as pd\n",
    "import numpy as np\n",
    "import matplotlib.pyplot as plt\n"
   ]
  },
  {
   "cell_type": "code",
   "execution_count": 2,
   "metadata": {},
   "outputs": [],
   "source": [
    "fn_individualCases = 'processed_individual_cases_Sep20th2020.csv'\n",
    "fn_location = 'processed_location_Sep20th2020.csv'\n",
    "\n",
    "icData = pd.read_csv(fn_individualCases)\n",
    "locData = pd.read_csv(fn_location)"
   ]
  },
  {
   "cell_type": "markdown",
   "metadata": {},
   "source": [
    "# 1.1 Exploratory Data Analysis"
   ]
  },
  {
   "cell_type": "code",
   "execution_count": 3,
   "metadata": {},
   "outputs": [
    {
     "name": "stdout",
     "output_type": "stream",
     "text": [
      "shape:  nonhospitalized    250000\n",
      "hospitalized       203228\n",
      "recovered           98137\n",
      "deceased             5999\n",
      "Name: outcome, dtype: int64\n",
      "outcome sum:  557364\n",
      "data shape:  (557364, 10)\n"
     ]
    }
   ],
   "source": [
    "print(\"shape: \",icData['outcome'].value_counts())\n",
    "print(\"outcome sum: \",icData['outcome'].value_counts().sum())\n",
    "print(\"data shape: \", icData.shape)"
   ]
  },
  {
   "cell_type": "code",
   "execution_count": 4,
   "metadata": {},
   "outputs": [
    {
     "name": "stdout",
     "output_type": "stream",
     "text": [
      "individual Cases Data: \n",
      "shape: \n",
      " (557364, 10)\n",
      "\n",
      "column value: \n",
      " ['age' 'sex' 'province' 'country' 'latitude' 'longitude'\n",
      " 'date_confirmation' 'additional_information' 'source' 'outcome']\n",
      "\n",
      "missing value:\n",
      " age                       296874\n",
      "sex                       293734\n",
      "province                    6568\n",
      "country                       24\n",
      "latitude                       2\n",
      "longitude                      2\n",
      "date_confirmation            462\n",
      "additional_information    522969\n",
      "source                    209191\n",
      "outcome                        0\n",
      "dtype: int64\n",
      "\n",
      "data type:\n",
      " age                        object\n",
      "sex                        object\n",
      "province                   object\n",
      "country                    object\n",
      "latitude                  float64\n",
      "longitude                 float64\n",
      "date_confirmation          object\n",
      "additional_information     object\n",
      "source                     object\n",
      "outcome                    object\n",
      "dtype: object\n",
      "\n",
      "\n",
      "India                               301144\n",
      "Peru                                 95540\n",
      "Germany                              54893\n",
      "Colombia                             19068\n",
      "Philippines                          17173\n",
      "                                     ...  \n",
      "Andorra                                  1\n",
      "Saint Vincent and the Grenadines         1\n",
      "Latvia                                   1\n",
      "Bhutan                                   1\n",
      "Somalia                                  1\n",
      "Name: country, Length: 135, dtype: int64\n",
      "nonhospitalized    250000\n",
      "hospitalized       203228\n",
      "recovered           98137\n",
      "deceased             5999\n",
      "Name: outcome, dtype: int64\n"
     ]
    }
   ],
   "source": [
    "print('individual Cases Data: ')\n",
    "ic_shape = icData.shape\n",
    "ic_col_val =  icData.columns.values\n",
    "icData_missing = icData.isnull().sum()\n",
    "print('shape: \\n', ic_shape)\n",
    "print('\\ncolumn value: \\n', ic_col_val)\n",
    "print('\\nmissing value:\\n',icData_missing)\n",
    "print('\\ndata type:\\n', icData.dtypes)\n",
    "\n",
    "print(\"\\n\")\n",
    "print(icData['country'].value_counts())\n",
    "print(icData['outcome'].value_counts())"
   ]
  },
  {
   "cell_type": "code",
   "execution_count": 5,
   "metadata": {},
   "outputs": [
    {
     "data": {
      "image/png": "[encoded data removed]",
      "text/plain": [
       "<Figure size 432x288 with 1 Axes>"
      ]
     },
     "metadata": {
      "needs_background": "light"
     },
     "output_type": "display_data"
    }
   ],
   "source": [
    "icData.sex.value_counts().plot(kind='bar');"
   ]
  },
  {
   "cell_type": "code",
   "execution_count": 6,
   "metadata": {},
   "outputs": [
    {
     "data": {
      "image/png": "[encoded data removed]",
      "text/plain": [
       "<Figure size 432x288 with 1 Axes>"
      ]
     },
     "metadata": {
      "needs_background": "light"
     },
     "output_type": "display_data"
    }
   ],
   "source": [
    "icData.outcome.value_counts().plot(kind='bar');"
   ]
  },
  {
   "cell_type": "code",
   "execution_count": 7,
   "metadata": {},
   "outputs": [
    {
     "data": {
      "text/plain": [
       "(-54.808029999999974, 70.0718)"
      ]
     },
     "execution_count": 7,
     "metadata": {},
     "output_type": "execute_result"
    },
    {
     "data": {
      "image/png": "[encoded data removed]",
      "text/plain": [
       "<Figure size 576x504 with 1 Axes>"
      ]
     },
     "metadata": {
      "needs_background": "light"
     },
     "output_type": "display_data"
    }
   ],
   "source": [
    "BBox = (icData.longitude.min(),   icData.longitude.max(),      \n",
    "         icData.latitude.min(), icData.latitude.max())\n",
    "fig, ax = plt.subplots(figsize = (8,7))\n",
    "ax.scatter(icData.longitude, icData.latitude, zorder=1, alpha= 0.2, c='b', s=10)\n",
    "ax.set_title('Plotting map')\n",
    "ax.set_xlim(BBox[0],BBox[1])\n",
    "ax.set_ylim(BBox[2],BBox[3])"
   ]
  },
  {
   "cell_type": "code",
   "execution_count": 8,
   "metadata": {},
   "outputs": [
    {
     "name": "stdout",
     "output_type": "stream",
     "text": [
      "Country_Region sum:  3954\n",
      "Last_Update sum:  3954\n",
      "Confirmed sum:  3954\n",
      "Deaths sum:  3954\n",
      "Recovered sum:  3954\n",
      "Combined_Key sum:  3954\n",
      "with missing value 'Long_':  3874\n",
      "data shape:  (3954, 12)\n"
     ]
    }
   ],
   "source": [
    "print(\"Country_Region sum: \",locData['Country_Region'].value_counts().sum())\n",
    "print(\"Last_Update sum: \",locData['Last_Update'].value_counts().sum())\n",
    "print(\"Confirmed sum: \",locData['Confirmed'].value_counts().sum())\n",
    "print(\"Deaths sum: \",locData['Deaths'].value_counts().sum())\n",
    "print(\"Recovered sum: \",locData['Recovered'].value_counts().sum())\n",
    "print(\"Combined_Key sum: \",locData['Combined_Key'].value_counts().sum())\n",
    "print(\"with missing value 'Long_': \",locData['Long_'].value_counts().sum())\n",
    "print(\"data shape: \", locData.shape)\n"
   ]
  },
  {
   "cell_type": "code",
   "execution_count": 9,
   "metadata": {},
   "outputs": [
    {
     "name": "stdout",
     "output_type": "stream",
     "text": [
      "location Data: \n",
      "shape: \n",
      " (3954, 12)\n",
      "\n",
      "column value: \n",
      " ['Province_State' 'Country_Region' 'Last_Update' 'Lat' 'Long_' 'Confirmed'\n",
      " 'Deaths' 'Recovered' 'Active' 'Combined_Key' 'Incidence_Rate'\n",
      " 'Case-Fatality_Ratio']\n",
      "\n",
      "missing value:\n",
      " Province_State         168\n",
      "Country_Region           0\n",
      "Last_Update              0\n",
      "Lat                     80\n",
      "Long_                   80\n",
      "Confirmed                0\n",
      "Deaths                   0\n",
      "Recovered                0\n",
      "Active                   2\n",
      "Combined_Key             0\n",
      "Incidence_Rate          80\n",
      "Case-Fatality_Ratio     48\n",
      "dtype: int64\n",
      "\n",
      "data type:\n",
      " Province_State          object\n",
      "Country_Region          object\n",
      "Last_Update             object\n",
      "Lat                    float64\n",
      "Long_                  float64\n",
      "Confirmed                int64\n",
      "Deaths                   int64\n",
      "Recovered                int64\n",
      "Active                 float64\n",
      "Combined_Key            object\n",
      "Incidence_Rate         float64\n",
      "Case-Fatality_Ratio    float64\n",
      "dtype: object\n"
     ]
    }
   ],
   "source": [
    "print('location Data: ')\n",
    "locData_shape = locData.shape\n",
    "locData_col_val =  locData.columns.values\n",
    "locData_missing = locData.isnull().sum()\n",
    "print('shape: \\n', locData_shape)\n",
    "print('\\ncolumn value: \\n', locData_col_val)\n",
    "print('\\nmissing value:\\n',locData_missing)\n",
    "print('\\ndata type:\\n', locData.dtypes)"
   ]
  },
  {
   "cell_type": "code",
   "execution_count": 10,
   "metadata": {},
   "outputs": [
    {
     "data": {
      "text/plain": [
       "(-52.368, 71.7069)"
      ]
     },
     "execution_count": 10,
     "metadata": {},
     "output_type": "execute_result"
    },
    {
     "data": {
      "image/png": "[encoded data removed]",
      "text/plain": [
       "<Figure size 576x504 with 1 Axes>"
      ]
     },
     "metadata": {
      "needs_background": "light"
     },
     "output_type": "display_data"
    }
   ],
   "source": [
    "BBox_loc = (locData.Long_.min(),   locData.Long_.max(),      \n",
    "         locData.Lat.min(), locData.Lat.max())\n",
    "fig, ax = plt.subplots(figsize = (8,7))\n",
    "ax.scatter(locData.Long_, locData.Lat, zorder=1, alpha= 0.2, c='b', s=10)\n",
    "ax.set_title('Plotting map')\n",
    "ax.set_xlim(BBox_loc[0],BBox_loc[1])\n",
    "ax.set_ylim(BBox_loc[2],BBox_loc[3])"
   ]
  },
  {
   "cell_type": "code",
   "execution_count": 11,
   "metadata": {
    "scrolled": true
   },
   "outputs": [
    {
     "data": {
      "image/png": "[encoded data removed]",
      "text/plain": [
       "<Figure size 432x288 with 1 Axes>"
      ]
     },
     "metadata": {
      "needs_background": "light"
     },
     "output_type": "display_data"
    },
    {
     "data": {
      "image/png": "[encoded data removed]",
      "text/plain": [
       "<Figure size 432x288 with 1 Axes>"
      ]
     },
     "metadata": {
      "needs_background": "light"
     },
     "output_type": "display_data"
    }
   ],
   "source": [
    "locData.hist(column = 'Incidence_Rate');\n",
    "locData.hist(column = 'Case-Fatality_Ratio');"
   ]
  },
  {
   "cell_type": "markdown",
   "metadata": {},
   "source": [
    "# 1.2 Data cleaning and Imputing missing values"
   ]
  },
  {
   "cell_type": "code",
   "execution_count": 12,
   "metadata": {},
   "outputs": [
    {
     "name": "stdout",
     "output_type": "stream",
     "text": [
      "age                       0\n",
      "sex                       0\n",
      "province                  0\n",
      "country                   0\n",
      "latitude                  0\n",
      "longitude                 0\n",
      "date_confirmation         0\n",
      "additional_information    0\n",
      "source                    0\n",
      "outcome                   0\n",
      "dtype: int64\n",
      "data shape:  (557364, 10)\n"
     ]
    }
   ],
   "source": [
    "def DealAge(age):\n",
    "    if isinstance(age,float):\n",
    "        return age\n",
    "    if isinstance(age,str):\n",
    "        try:\n",
    "            return float(age)\n",
    "        except:\n",
    "            pass\n",
    "        if age.find('-')>0:\n",
    "            li = age.split(\"-\")\n",
    "\n",
    "            try:\n",
    "                return int((float(li[0])+float(li[1]))/2.0)\n",
    "            except:\n",
    "                pass\n",
    "        if age.find(\"+\"):\n",
    "            try:\n",
    "                a = float(age.strip(\"+\"))\n",
    "                return int((a+(int(a)/10+1)*10)/2)\n",
    "            except:\n",
    "                pass\n",
    "        if age.find(\"-\"):\n",
    "            try:\n",
    "                a = float(age.strip(\"-\"))\n",
    "                return int((a+(int(a)/10)*10)/2)\n",
    "            except:\n",
    "                pass\n",
    "\n",
    "    return 0\n",
    "icData[\"age\"] = icData[\"age\"].map(DealAge)\n",
    "values1 = {\n",
    "    'age':int(icData[\"age\"].mean()),\n",
    "    'sex':'unknown',\n",
    "    \"province\":\"unknown\",\n",
    "    \"country\":\"unknown\",\n",
    "    \"latitude\":0,\n",
    "    \"longitude\":0,\n",
    "    \"date_confirmation\":\"unknown\",\n",
    "    \"additional_information\":\"unknown\",\n",
    "    \"date_confirmation\":\"unknown\",\n",
    "    \"source\":\"unknown\"}\n",
    "icData = icData.fillna(value = values1)\n",
    "print(icData.isnull().sum())\n",
    "print(\"data shape: \", icData.shape)"
   ]
  },
  {
   "cell_type": "code",
   "execution_count": 13,
   "metadata": {},
   "outputs": [
    {
     "name": "stdout",
     "output_type": "stream",
     "text": [
      "Province_State         0\n",
      "Country_Region         0\n",
      "Last_Update            0\n",
      "Lat                    0\n",
      "Long_                  0\n",
      "Confirmed              0\n",
      "Deaths                 0\n",
      "Recovered              0\n",
      "Active                 0\n",
      "Combined_Key           0\n",
      "Incidence_Rate         0\n",
      "Case-Fatality_Ratio    0\n",
      "dtype: int64\n",
      "data shape:  (3954, 12)\n"
     ]
    }
   ],
   "source": [
    "values2 = {\n",
    "    'Province_State':'unknown',\n",
    "    \"Lat\":0,\n",
    "    \"Long_\":0,\n",
    "    \"Active\":0,\n",
    "    \"Incidence_Rate\":0,\n",
    "    \"Case-Fatality_Ratio\": 0}\n",
    "locData = locData.fillna(value = values2)\n",
    "print(locData.isnull().sum())\n",
    "print(\"data shape: \", locData.shape)"
   ]
  },
  {
   "cell_type": "markdown",
   "metadata": {},
   "source": [
    "# 1.3 Dealing with outliers"
   ]
  },
  {
   "cell_type": "code",
   "execution_count": 14,
   "metadata": {},
   "outputs": [
    {
     "data": {
      "text/plain": [
       "<matplotlib.axes._subplots.AxesSubplot at 0x12030e3c8>"
      ]
     },
     "execution_count": 14,
     "metadata": {},
     "output_type": "execute_result"
    },
    {
     "data": {
      "image/png": "[encoded data removed]",
      "text/plain": [
       "<Figure size 432x288 with 1 Axes>"
      ]
     },
     "metadata": {
      "needs_background": "light"
     },
     "output_type": "display_data"
    }
   ],
   "source": [
    "cols = ['Incidence_Rate','Case-Fatality_Ratio']\n",
    "for col in cols:\n",
    "    col_zscore = col+'_zscore'\n",
    "    locData[col_zscore] = (locData[col]-locData[col].mean())/locData[col].std(ddof=0)\n",
    "locData.head(20)\n",
    "\n",
    "locData.boxplot(column=['Incidence_Rate_zscore','Case-Fatality_Ratio_zscore'])"
   ]
  },
  {
   "cell_type": "code",
   "execution_count": 15,
   "metadata": {},
   "outputs": [
    {
     "name": "stdout",
     "output_type": "stream",
     "text": [
      "Incidence_Rate outlier by country: \n",
      " US        53\n",
      "Brazil     2\n",
      "Peru       1\n",
      "Name: Country_Region, dtype: int64\n",
      "\n",
      "Case-Fatality_Ratio outlier by country: \n",
      " US            16\n",
      "Mexico        10\n",
      "Italy          2\n",
      "Yemen          1\n",
      "MS Zaandam     1\n",
      "Name: Country_Region, dtype: int64\n"
     ]
    }
   ],
   "source": [
    "case_outlier = locData['Case-Fatality_Ratio_zscore']>3\n",
    "incidence_outlier = locData['Incidence_Rate_zscore']>3\n",
    "print('Incidence_Rate outlier by country: \\n',\n",
    "      locData[incidence_outlier]['Country_Region'].value_counts())\n",
    "print('\\nCase-Fatality_Ratio outlier by country: \\n', \n",
    "      locData[case_outlier]['Country_Region'].value_counts())"
   ]
  },
  {
   "cell_type": "code",
   "execution_count": 16,
   "metadata": {},
   "outputs": [],
   "source": [
    "locData = locData.drop(columns=['Case-Fatality_Ratio_zscore','Incidence_Rate_zscore'])"
   ]
  },
  {
   "cell_type": "code",
   "execution_count": 17,
   "metadata": {},
   "outputs": [
    {
     "data": {
      "text/plain": [
       "<matplotlib.axes._subplots.AxesSubplot at 0x11a4b1e80>"
      ]
     },
     "execution_count": 17,
     "metadata": {},
     "output_type": "execute_result"
    },
    {
     "data": {
      "image/png": "[encoded data removed]",
      "text/plain": [
       "<Figure size 432x288 with 1 Axes>"
      ]
     },
     "metadata": {
      "needs_background": "light"
     },
     "output_type": "display_data"
    }
   ],
   "source": [
    "# icData.dtypes\n",
    "cols = ['age']\n",
    "for col in cols:\n",
    "    col_zscore = col+'_zscore'\n",
    "    icData[col_zscore] = (icData[col]-icData[col].mean())/icData[col].std(ddof=0)\n",
    "# icData.head(20)\n",
    "icData.boxplot(column=['age_zscore'])"
   ]
  },
  {
   "cell_type": "code",
   "execution_count": 18,
   "metadata": {},
   "outputs": [
    {
     "name": "stdout",
     "output_type": "stream",
     "text": [
      "\n",
      "age outlier: \n",
      " 85.0     7746\n",
      "95.0      877\n",
      "86.0      364\n",
      "88.0      341\n",
      "87.0      312\n",
      "89.0      289\n",
      "90.0      276\n",
      "91.0      172\n",
      "92.0      170\n",
      "93.0      137\n",
      "94.0      110\n",
      "96.0       58\n",
      "97.0       41\n",
      "98.0       36\n",
      "99.0       22\n",
      "100.0      13\n",
      "102.0       7\n",
      "105.0       6\n",
      "104.0       4\n",
      "101.0       3\n",
      "103.0       3\n",
      "120.0       1\n",
      "106.0       1\n",
      "121.0       1\n",
      "Name: age, dtype: int64 2.000000    1715\n",
      "0.000000    1006\n",
      "1.000000     713\n",
      "0.100000      13\n",
      "1.500000       8\n",
      "0.500000       5\n",
      "0.250000       4\n",
      "0.200000       3\n",
      "0.700000       3\n",
      "0.300000       3\n",
      "0.900000       2\n",
      "0.583330       1\n",
      "1.750000       1\n",
      "0.750000       1\n",
      "0.600000       1\n",
      "0.666667       1\n",
      "0.400000       1\n",
      "Name: age, dtype: int64\n"
     ]
    }
   ],
   "source": [
    "upper_case_outlier = icData['age_zscore']>3\n",
    "lower_case_outlier = icData['age_zscore']<(-3)\n",
    "\n",
    "print('\\nage outlier: \\n', \n",
    "      icData[upper_case_outlier]['age'].value_counts(),\n",
    "     icData[lower_case_outlier]['age'].value_counts())\n",
    "\n",
    "icData = icData.drop(columns=['age_zscore'])"
   ]
  },
  {
   "cell_type": "markdown",
   "metadata": {},
   "source": [
    "# 1.4 Transformation\n"
   ]
  },
  {
   "cell_type": "code",
   "execution_count": 19,
   "metadata": {},
   "outputs": [
    {
     "data": {
      "text/html": [
       "<div>\n",
       "<style scoped>\n",
       "    .dataframe tbody tr th:only-of-type {\n",
       "        vertical-align: middle;\n",
       "    }\n",
       "\n",
       "    .dataframe tbody tr th {\n",
       "        vertical-align: top;\n",
       "    }\n",
       "\n",
       "    .dataframe thead th {\n",
       "        text-align: right;\n",
       "    }\n",
       "</style>\n",
       "<table border=\"1\" class=\"dataframe\">\n",
       "  <thead>\n",
       "    <tr style=\"text-align: right;\">\n",
       "      <th></th>\n",
       "      <th>Confirmed</th>\n",
       "      <th>Deaths</th>\n",
       "      <th>Recovered</th>\n",
       "      <th>Active</th>\n",
       "      <th>Province_Case-Fatality_Ratio</th>\n",
       "    </tr>\n",
       "    <tr>\n",
       "      <th>Province_State</th>\n",
       "      <th></th>\n",
       "      <th></th>\n",
       "      <th></th>\n",
       "      <th></th>\n",
       "      <th></th>\n",
       "    </tr>\n",
       "  </thead>\n",
       "  <tbody>\n",
       "    <tr>\n",
       "      <th>Alabama</th>\n",
       "      <td>144164</td>\n",
       "      <td>2437</td>\n",
       "      <td>0</td>\n",
       "      <td>141727.0</td>\n",
       "      <td>1.690436</td>\n",
       "    </tr>\n",
       "    <tr>\n",
       "      <th>Alaska</th>\n",
       "      <td>6729</td>\n",
       "      <td>45</td>\n",
       "      <td>0</td>\n",
       "      <td>6684.0</td>\n",
       "      <td>0.668747</td>\n",
       "    </tr>\n",
       "    <tr>\n",
       "      <th>Arizona</th>\n",
       "      <td>212942</td>\n",
       "      <td>5451</td>\n",
       "      <td>0</td>\n",
       "      <td>207491.0</td>\n",
       "      <td>2.559852</td>\n",
       "    </tr>\n",
       "    <tr>\n",
       "      <th>Arkansas</th>\n",
       "      <td>75160</td>\n",
       "      <td>1181</td>\n",
       "      <td>0</td>\n",
       "      <td>73979.0</td>\n",
       "      <td>1.571315</td>\n",
       "    </tr>\n",
       "    <tr>\n",
       "      <th>California</th>\n",
       "      <td>783313</td>\n",
       "      <td>15018</td>\n",
       "      <td>0</td>\n",
       "      <td>768295.0</td>\n",
       "      <td>1.917241</td>\n",
       "    </tr>\n",
       "    <tr>\n",
       "      <th>Colorado</th>\n",
       "      <td>64336</td>\n",
       "      <td>2013</td>\n",
       "      <td>0</td>\n",
       "      <td>62323.0</td>\n",
       "      <td>3.128886</td>\n",
       "    </tr>\n",
       "    <tr>\n",
       "      <th>Connecticut</th>\n",
       "      <td>55527</td>\n",
       "      <td>4492</td>\n",
       "      <td>0</td>\n",
       "      <td>51035.0</td>\n",
       "      <td>8.089758</td>\n",
       "    </tr>\n",
       "    <tr>\n",
       "      <th>Delaware</th>\n",
       "      <td>19449</td>\n",
       "      <td>621</td>\n",
       "      <td>0</td>\n",
       "      <td>18828.0</td>\n",
       "      <td>3.192966</td>\n",
       "    </tr>\n",
       "    <tr>\n",
       "      <th>Diamond Princess</th>\n",
       "      <td>49</td>\n",
       "      <td>0</td>\n",
       "      <td>0</td>\n",
       "      <td>49.0</td>\n",
       "      <td>0.000000</td>\n",
       "    </tr>\n",
       "    <tr>\n",
       "      <th>District of Columbia</th>\n",
       "      <td>14902</td>\n",
       "      <td>619</td>\n",
       "      <td>0</td>\n",
       "      <td>14283.0</td>\n",
       "      <td>4.153805</td>\n",
       "    </tr>\n",
       "    <tr>\n",
       "      <th>Florida</th>\n",
       "      <td>681233</td>\n",
       "      <td>13287</td>\n",
       "      <td>0</td>\n",
       "      <td>667946.0</td>\n",
       "      <td>1.950434</td>\n",
       "    </tr>\n",
       "    <tr>\n",
       "      <th>Georgia</th>\n",
       "      <td>305021</td>\n",
       "      <td>6599</td>\n",
       "      <td>0</td>\n",
       "      <td>298422.0</td>\n",
       "      <td>2.163458</td>\n",
       "    </tr>\n",
       "    <tr>\n",
       "      <th>Grand Princess</th>\n",
       "      <td>103</td>\n",
       "      <td>3</td>\n",
       "      <td>0</td>\n",
       "      <td>100.0</td>\n",
       "      <td>2.912621</td>\n",
       "    </tr>\n",
       "    <tr>\n",
       "      <th>Guam</th>\n",
       "      <td>2074</td>\n",
       "      <td>31</td>\n",
       "      <td>0</td>\n",
       "      <td>2043.0</td>\n",
       "      <td>1.494696</td>\n",
       "    </tr>\n",
       "    <tr>\n",
       "      <th>Hawaii</th>\n",
       "      <td>11326</td>\n",
       "      <td>120</td>\n",
       "      <td>0</td>\n",
       "      <td>11206.0</td>\n",
       "      <td>1.059509</td>\n",
       "    </tr>\n",
       "    <tr>\n",
       "      <th>Idaho</th>\n",
       "      <td>37247</td>\n",
       "      <td>441</td>\n",
       "      <td>0</td>\n",
       "      <td>36806.0</td>\n",
       "      <td>1.183988</td>\n",
       "    </tr>\n",
       "    <tr>\n",
       "      <th>Illinois</th>\n",
       "      <td>275041</td>\n",
       "      <td>8672</td>\n",
       "      <td>0</td>\n",
       "      <td>266369.0</td>\n",
       "      <td>3.152984</td>\n",
       "    </tr>\n",
       "    <tr>\n",
       "      <th>Indiana</th>\n",
       "      <td>110759</td>\n",
       "      <td>3503</td>\n",
       "      <td>0</td>\n",
       "      <td>107256.0</td>\n",
       "      <td>3.162723</td>\n",
       "    </tr>\n",
       "    <tr>\n",
       "      <th>Iowa</th>\n",
       "      <td>79804</td>\n",
       "      <td>1265</td>\n",
       "      <td>0</td>\n",
       "      <td>78520.0</td>\n",
       "      <td>1.585134</td>\n",
       "    </tr>\n",
       "    <tr>\n",
       "      <th>Kansas</th>\n",
       "      <td>52486</td>\n",
       "      <td>594</td>\n",
       "      <td>0</td>\n",
       "      <td>51892.0</td>\n",
       "      <td>1.131730</td>\n",
       "    </tr>\n",
       "    <tr>\n",
       "      <th>Kentucky</th>\n",
       "      <td>61106</td>\n",
       "      <td>1108</td>\n",
       "      <td>0</td>\n",
       "      <td>59998.0</td>\n",
       "      <td>1.813243</td>\n",
       "    </tr>\n",
       "    <tr>\n",
       "      <th>Louisiana</th>\n",
       "      <td>160283</td>\n",
       "      <td>5342</td>\n",
       "      <td>0</td>\n",
       "      <td>154941.0</td>\n",
       "      <td>3.332855</td>\n",
       "    </tr>\n",
       "    <tr>\n",
       "      <th>Maine</th>\n",
       "      <td>5034</td>\n",
       "      <td>139</td>\n",
       "      <td>0</td>\n",
       "      <td>4895.0</td>\n",
       "      <td>2.761224</td>\n",
       "    </tr>\n",
       "    <tr>\n",
       "      <th>Maryland</th>\n",
       "      <td>119744</td>\n",
       "      <td>3876</td>\n",
       "      <td>0</td>\n",
       "      <td>115868.0</td>\n",
       "      <td>3.236905</td>\n",
       "    </tr>\n",
       "    <tr>\n",
       "      <th>Massachusetts</th>\n",
       "      <td>127181</td>\n",
       "      <td>9295</td>\n",
       "      <td>0</td>\n",
       "      <td>117886.0</td>\n",
       "      <td>7.308482</td>\n",
       "    </tr>\n",
       "    <tr>\n",
       "      <th>Michigan</th>\n",
       "      <td>128087</td>\n",
       "      <td>6969</td>\n",
       "      <td>0</td>\n",
       "      <td>121118.0</td>\n",
       "      <td>5.440833</td>\n",
       "    </tr>\n",
       "    <tr>\n",
       "      <th>Minnesota</th>\n",
       "      <td>88721</td>\n",
       "      <td>2015</td>\n",
       "      <td>0</td>\n",
       "      <td>86706.0</td>\n",
       "      <td>2.271165</td>\n",
       "    </tr>\n",
       "    <tr>\n",
       "      <th>Mississippi</th>\n",
       "      <td>93087</td>\n",
       "      <td>2809</td>\n",
       "      <td>0</td>\n",
       "      <td>90278.0</td>\n",
       "      <td>3.017607</td>\n",
       "    </tr>\n",
       "    <tr>\n",
       "      <th>Missouri</th>\n",
       "      <td>112864</td>\n",
       "      <td>1825</td>\n",
       "      <td>0</td>\n",
       "      <td>111039.0</td>\n",
       "      <td>1.616990</td>\n",
       "    </tr>\n",
       "    <tr>\n",
       "      <th>Montana</th>\n",
       "      <td>10163</td>\n",
       "      <td>156</td>\n",
       "      <td>0</td>\n",
       "      <td>10007.0</td>\n",
       "      <td>1.534980</td>\n",
       "    </tr>\n",
       "    <tr>\n",
       "      <th>Nebraska</th>\n",
       "      <td>40797</td>\n",
       "      <td>442</td>\n",
       "      <td>0</td>\n",
       "      <td>40355.0</td>\n",
       "      <td>1.083413</td>\n",
       "    </tr>\n",
       "    <tr>\n",
       "      <th>Nevada</th>\n",
       "      <td>75419</td>\n",
       "      <td>1528</td>\n",
       "      <td>0</td>\n",
       "      <td>73891.0</td>\n",
       "      <td>2.026015</td>\n",
       "    </tr>\n",
       "    <tr>\n",
       "      <th>New Hampshire</th>\n",
       "      <td>7920</td>\n",
       "      <td>438</td>\n",
       "      <td>0</td>\n",
       "      <td>7482.0</td>\n",
       "      <td>5.530303</td>\n",
       "    </tr>\n",
       "    <tr>\n",
       "      <th>New Jersey</th>\n",
       "      <td>199309</td>\n",
       "      <td>16064</td>\n",
       "      <td>0</td>\n",
       "      <td>183245.0</td>\n",
       "      <td>8.059847</td>\n",
       "    </tr>\n",
       "    <tr>\n",
       "      <th>New Mexico</th>\n",
       "      <td>27512</td>\n",
       "      <td>847</td>\n",
       "      <td>0</td>\n",
       "      <td>26665.0</td>\n",
       "      <td>3.078657</td>\n",
       "    </tr>\n",
       "    <tr>\n",
       "      <th>New York</th>\n",
       "      <td>449038</td>\n",
       "      <td>33081</td>\n",
       "      <td>0</td>\n",
       "      <td>415957.0</td>\n",
       "      <td>7.367083</td>\n",
       "    </tr>\n",
       "    <tr>\n",
       "      <th>North Carolina</th>\n",
       "      <td>192247</td>\n",
       "      <td>3235</td>\n",
       "      <td>0</td>\n",
       "      <td>189012.0</td>\n",
       "      <td>1.682731</td>\n",
       "    </tr>\n",
       "    <tr>\n",
       "      <th>North Dakota</th>\n",
       "      <td>17607</td>\n",
       "      <td>192</td>\n",
       "      <td>0</td>\n",
       "      <td>17415.0</td>\n",
       "      <td>1.090475</td>\n",
       "    </tr>\n",
       "    <tr>\n",
       "      <th>Northern Mariana Islands</th>\n",
       "      <td>68</td>\n",
       "      <td>2</td>\n",
       "      <td>0</td>\n",
       "      <td>66.0</td>\n",
       "      <td>2.941176</td>\n",
       "    </tr>\n",
       "    <tr>\n",
       "      <th>Ohio</th>\n",
       "      <td>143547</td>\n",
       "      <td>4612</td>\n",
       "      <td>0</td>\n",
       "      <td>138935.0</td>\n",
       "      <td>3.212885</td>\n",
       "    </tr>\n",
       "    <tr>\n",
       "      <th>Oklahoma</th>\n",
       "      <td>75804</td>\n",
       "      <td>943</td>\n",
       "      <td>0</td>\n",
       "      <td>74861.0</td>\n",
       "      <td>1.243998</td>\n",
       "    </tr>\n",
       "    <tr>\n",
       "      <th>Oregon</th>\n",
       "      <td>30342</td>\n",
       "      <td>521</td>\n",
       "      <td>0</td>\n",
       "      <td>29821.0</td>\n",
       "      <td>1.717092</td>\n",
       "    </tr>\n",
       "    <tr>\n",
       "      <th>Pennsylvania</th>\n",
       "      <td>154236</td>\n",
       "      <td>7940</td>\n",
       "      <td>0</td>\n",
       "      <td>146296.0</td>\n",
       "      <td>5.147955</td>\n",
       "    </tr>\n",
       "    <tr>\n",
       "      <th>Puerto Rico</th>\n",
       "      <td>40993</td>\n",
       "      <td>605</td>\n",
       "      <td>0</td>\n",
       "      <td>40388.0</td>\n",
       "      <td>1.475862</td>\n",
       "    </tr>\n",
       "    <tr>\n",
       "      <th>Recovered</th>\n",
       "      <td>0</td>\n",
       "      <td>0</td>\n",
       "      <td>2577446</td>\n",
       "      <td>-2577446.0</td>\n",
       "      <td>NaN</td>\n",
       "    </tr>\n",
       "    <tr>\n",
       "      <th>Rhode Island</th>\n",
       "      <td>23620</td>\n",
       "      <td>1088</td>\n",
       "      <td>0</td>\n",
       "      <td>22532.0</td>\n",
       "      <td>4.606266</td>\n",
       "    </tr>\n",
       "    <tr>\n",
       "      <th>South Carolina</th>\n",
       "      <td>137240</td>\n",
       "      <td>3188</td>\n",
       "      <td>0</td>\n",
       "      <td>134052.0</td>\n",
       "      <td>2.322938</td>\n",
       "    </tr>\n",
       "    <tr>\n",
       "      <th>South Dakota</th>\n",
       "      <td>18444</td>\n",
       "      <td>200</td>\n",
       "      <td>0</td>\n",
       "      <td>18244.0</td>\n",
       "      <td>1.084363</td>\n",
       "    </tr>\n",
       "    <tr>\n",
       "      <th>Tennessee</th>\n",
       "      <td>181439</td>\n",
       "      <td>2216</td>\n",
       "      <td>0</td>\n",
       "      <td>179223.0</td>\n",
       "      <td>1.221347</td>\n",
       "    </tr>\n",
       "    <tr>\n",
       "      <th>Texas</th>\n",
       "      <td>707940</td>\n",
       "      <td>15051</td>\n",
       "      <td>0</td>\n",
       "      <td>692889.0</td>\n",
       "      <td>2.126028</td>\n",
       "    </tr>\n",
       "    <tr>\n",
       "      <th>Utah</th>\n",
       "      <td>62852</td>\n",
       "      <td>440</td>\n",
       "      <td>0</td>\n",
       "      <td>62412.0</td>\n",
       "      <td>0.700057</td>\n",
       "    </tr>\n",
       "    <tr>\n",
       "      <th>Vermont</th>\n",
       "      <td>1710</td>\n",
       "      <td>58</td>\n",
       "      <td>0</td>\n",
       "      <td>1652.0</td>\n",
       "      <td>3.391813</td>\n",
       "    </tr>\n",
       "    <tr>\n",
       "      <th>Virgin Islands</th>\n",
       "      <td>1257</td>\n",
       "      <td>19</td>\n",
       "      <td>0</td>\n",
       "      <td>1238.0</td>\n",
       "      <td>1.511535</td>\n",
       "    </tr>\n",
       "    <tr>\n",
       "      <th>Virginia</th>\n",
       "      <td>139546</td>\n",
       "      <td>2988</td>\n",
       "      <td>0</td>\n",
       "      <td>136558.0</td>\n",
       "      <td>2.141229</td>\n",
       "    </tr>\n",
       "    <tr>\n",
       "      <th>Washington</th>\n",
       "      <td>82199</td>\n",
       "      <td>2037</td>\n",
       "      <td>0</td>\n",
       "      <td>80162.0</td>\n",
       "      <td>2.478132</td>\n",
       "    </tr>\n",
       "    <tr>\n",
       "      <th>West Virginia</th>\n",
       "      <td>13889</td>\n",
       "      <td>311</td>\n",
       "      <td>0</td>\n",
       "      <td>13578.0</td>\n",
       "      <td>2.239182</td>\n",
       "    </tr>\n",
       "    <tr>\n",
       "      <th>Wisconsin</th>\n",
       "      <td>97279</td>\n",
       "      <td>1238</td>\n",
       "      <td>0</td>\n",
       "      <td>96041.0</td>\n",
       "      <td>1.272628</td>\n",
       "    </tr>\n",
       "    <tr>\n",
       "      <th>Wyoming</th>\n",
       "      <td>4781</td>\n",
       "      <td>49</td>\n",
       "      <td>0</td>\n",
       "      <td>4731.0</td>\n",
       "      <td>1.024890</td>\n",
       "    </tr>\n",
       "  </tbody>\n",
       "</table>\n",
       "</div>"
      ],
      "text/plain": [
       "                          Confirmed  Deaths  Recovered     Active  \\\n",
       "Province_State                                                      \n",
       "Alabama                      144164    2437          0   141727.0   \n",
       "Alaska                         6729      45          0     6684.0   \n",
       "Arizona                      212942    5451          0   207491.0   \n",
       "Arkansas                      75160    1181          0    73979.0   \n",
       "California                   783313   15018          0   768295.0   \n",
       "Colorado                      64336    2013          0    62323.0   \n",
       "Connecticut                   55527    4492          0    51035.0   \n",
       "Delaware                      19449     621          0    18828.0   \n",
       "Diamond Princess                 49       0          0       49.0   \n",
       "District of Columbia          14902     619          0    14283.0   \n",
       "Florida                      681233   13287          0   667946.0   \n",
       "Georgia                      305021    6599          0   298422.0   \n",
       "Grand Princess                  103       3          0      100.0   \n",
       "Guam                           2074      31          0     2043.0   \n",
       "Hawaii                        11326     120          0    11206.0   \n",
       "Idaho                         37247     441          0    36806.0   \n",
       "Illinois                     275041    8672          0   266369.0   \n",
       "Indiana                      110759    3503          0   107256.0   \n",
       "Iowa                          79804    1265          0    78520.0   \n",
       "Kansas                        52486     594          0    51892.0   \n",
       "Kentucky                      61106    1108          0    59998.0   \n",
       "Louisiana                    160283    5342          0   154941.0   \n",
       "Maine                          5034     139          0     4895.0   \n",
       "Maryland                     119744    3876          0   115868.0   \n",
       "Massachusetts                127181    9295          0   117886.0   \n",
       "Michigan                     128087    6969          0   121118.0   \n",
       "Minnesota                     88721    2015          0    86706.0   \n",
       "Mississippi                   93087    2809          0    90278.0   \n",
       "Missouri                     112864    1825          0   111039.0   \n",
       "Montana                       10163     156          0    10007.0   \n",
       "Nebraska                      40797     442          0    40355.0   \n",
       "Nevada                        75419    1528          0    73891.0   \n",
       "New Hampshire                  7920     438          0     7482.0   \n",
       "New Jersey                   199309   16064          0   183245.0   \n",
       "New Mexico                    27512     847          0    26665.0   \n",
       "New York                     449038   33081          0   415957.0   \n",
       "North Carolina               192247    3235          0   189012.0   \n",
       "North Dakota                  17607     192          0    17415.0   \n",
       "Northern Mariana Islands         68       2          0       66.0   \n",
       "Ohio                         143547    4612          0   138935.0   \n",
       "Oklahoma                      75804     943          0    74861.0   \n",
       "Oregon                        30342     521          0    29821.0   \n",
       "Pennsylvania                 154236    7940          0   146296.0   \n",
       "Puerto Rico                   40993     605          0    40388.0   \n",
       "Recovered                         0       0    2577446 -2577446.0   \n",
       "Rhode Island                  23620    1088          0    22532.0   \n",
       "South Carolina               137240    3188          0   134052.0   \n",
       "South Dakota                  18444     200          0    18244.0   \n",
       "Tennessee                    181439    2216          0   179223.0   \n",
       "Texas                        707940   15051          0   692889.0   \n",
       "Utah                          62852     440          0    62412.0   \n",
       "Vermont                        1710      58          0     1652.0   \n",
       "Virgin Islands                 1257      19          0     1238.0   \n",
       "Virginia                     139546    2988          0   136558.0   \n",
       "Washington                    82199    2037          0    80162.0   \n",
       "West Virginia                 13889     311          0    13578.0   \n",
       "Wisconsin                     97279    1238          0    96041.0   \n",
       "Wyoming                        4781      49          0     4731.0   \n",
       "\n",
       "                          Province_Case-Fatality_Ratio  \n",
       "Province_State                                          \n",
       "Alabama                                       1.690436  \n",
       "Alaska                                        0.668747  \n",
       "Arizona                                       2.559852  \n",
       "Arkansas                                      1.571315  \n",
       "California                                    1.917241  \n",
       "Colorado                                      3.128886  \n",
       "Connecticut                                   8.089758  \n",
       "Delaware                                      3.192966  \n",
       "Diamond Princess                              0.000000  \n",
       "District of Columbia                          4.153805  \n",
       "Florida                                       1.950434  \n",
       "Georgia                                       2.163458  \n",
       "Grand Princess                                2.912621  \n",
       "Guam                                          1.494696  \n",
       "Hawaii                                        1.059509  \n",
       "Idaho                                         1.183988  \n",
       "Illinois                                      3.152984  \n",
       "Indiana                                       3.162723  \n",
       "Iowa                                          1.585134  \n",
       "Kansas                                        1.131730  \n",
       "Kentucky                                      1.813243  \n",
       "Louisiana                                     3.332855  \n",
       "Maine                                         2.761224  \n",
       "Maryland                                      3.236905  \n",
       "Massachusetts                                 7.308482  \n",
       "Michigan                                      5.440833  \n",
       "Minnesota                                     2.271165  \n",
       "Mississippi                                   3.017607  \n",
       "Missouri                                      1.616990  \n",
       "Montana                                       1.534980  \n",
       "Nebraska                                      1.083413  \n",
       "Nevada                                        2.026015  \n",
       "New Hampshire                                 5.530303  \n",
       "New Jersey                                    8.059847  \n",
       "New Mexico                                    3.078657  \n",
       "New York                                      7.367083  \n",
       "North Carolina                                1.682731  \n",
       "North Dakota                                  1.090475  \n",
       "Northern Mariana Islands                      2.941176  \n",
       "Ohio                                          3.212885  \n",
       "Oklahoma                                      1.243998  \n",
       "Oregon                                        1.717092  \n",
       "Pennsylvania                                  5.147955  \n",
       "Puerto Rico                                   1.475862  \n",
       "Recovered                                          NaN  \n",
       "Rhode Island                                  4.606266  \n",
       "South Carolina                                2.322938  \n",
       "South Dakota                                  1.084363  \n",
       "Tennessee                                     1.221347  \n",
       "Texas                                         2.126028  \n",
       "Utah                                          0.700057  \n",
       "Vermont                                       3.391813  \n",
       "Virgin Islands                                1.511535  \n",
       "Virginia                                      2.141229  \n",
       "Washington                                    2.478132  \n",
       "West Virginia                                 2.239182  \n",
       "Wisconsin                                     1.272628  \n",
       "Wyoming                                       1.024890  "
      ]
     },
     "execution_count": 19,
     "metadata": {},
     "output_type": "execute_result"
    }
   ],
   "source": [
    "us_selected = locData['Country_Region'] == 'US'\n",
    "grouped = locData[us_selected].groupby('Province_State')[['Confirmed','Deaths','Recovered','Active']].sum()\n",
    "grouped['Province_Case-Fatality_Ratio'] = grouped['Deaths']/grouped['Confirmed']*100\n",
    "grouped"
   ]
  },
  {
   "cell_type": "markdown",
   "metadata": {},
   "source": [
    "# 1.5 Joining the cases and location dataset"
   ]
  },
  {
   "cell_type": "code",
   "execution_count": 20,
   "metadata": {},
   "outputs": [
    {
     "name": "stdout",
     "output_type": "stream",
     "text": [
      "Province_State         0\n",
      "Country_Region         0\n",
      "Last_Update            0\n",
      "Lat                    0\n",
      "Long_                  0\n",
      "Confirmed              0\n",
      "Deaths                 0\n",
      "Recovered              0\n",
      "Active                 0\n",
      "Combined_Key           0\n",
      "Incidence_Rate         0\n",
      "Case-Fatality_Ratio    0\n",
      "dtype: int64\n",
      "age                       0\n",
      "sex                       0\n",
      "province                  0\n",
      "country                   0\n",
      "latitude                  0\n",
      "longitude                 0\n",
      "date_confirmation         0\n",
      "additional_information    0\n",
      "source                    0\n",
      "outcome                   0\n",
      "dtype: int64\n"
     ]
    }
   ],
   "source": [
    "print(locData.isnull().sum())\n",
    "print(icData.isnull().sum())"
   ]
  },
  {
   "cell_type": "code",
   "execution_count": 21,
   "metadata": {},
   "outputs": [
    {
     "name": "stdout",
     "output_type": "stream",
     "text": [
      "(3954, 12)\n",
      "(557364, 10)\n"
     ]
    }
   ],
   "source": [
    "dropped_location = locData.dropna()\n",
    "dropped_cases = icData.dropna();\n",
    "print(dropped_location.shape)\n",
    "print(dropped_cases.shape)\n",
    "    "
   ]
  },
  {
   "cell_type": "code",
   "execution_count": 22,
   "metadata": {},
   "outputs": [
    {
     "data": {
      "text/plain": [
       "(557364, 22)"
      ]
     },
     "execution_count": 22,
     "metadata": {},
     "output_type": "execute_result"
    }
   ],
   "source": [
    "#merge based on country,province dropped_cases\n",
    "country_merge = dropped_cases.merge(dropped_location, how='left', left_on=['country'], right_on=['Country_Region'])\n",
    "\n",
    "country_merge = dropped_cases.merge(dropped_location, how='left', left_on=['country','province'], right_on=['Country_Region',\"Province_State\"])\n",
    "\n",
    "country_merge.shape"
   ]
  },
  {
   "cell_type": "code",
   "execution_count": null,
   "metadata": {},
   "outputs": [],
   "source": []
  },
  {
   "cell_type": "code",
   "execution_count": 23,
   "metadata": {},
   "outputs": [
    {
     "name": "stdout",
     "output_type": "stream",
     "text": [
      "age                            0\n",
      "sex                            0\n",
      "province                       0\n",
      "country                        0\n",
      "latitude                       0\n",
      "longitude                      0\n",
      "date_confirmation              0\n",
      "additional_information         0\n",
      "source                         0\n",
      "outcome                        0\n",
      "Province_State                 0\n",
      "Country_Region            100605\n",
      "Last_Update                    0\n",
      "Lat                            0\n",
      "Long_                          0\n",
      "Confirmed                      0\n",
      "Deaths                         0\n",
      "Recovered                      0\n",
      "Active                         0\n",
      "Combined_Key                   0\n",
      "Incidence_Rate                 0\n",
      "Case-Fatality_Ratio            0\n",
      "dtype: int64\n",
      "data shape:  (557364, 22)\n"
     ]
    }
   ],
   "source": [
    "values2 = {\n",
    "    'Last_Update': 'unknown',\n",
    "    'Province_State':'unknown',\n",
    "    \"Lat\":0,\n",
    "    \"Long_\":0,\n",
    "    'Confirmed':0,\n",
    "    'Deaths':0,\n",
    "    'Recovered':0,\n",
    "    \"Active\":0,\n",
    "    \"Incidence_Rate\":0,\n",
    "    'Combined_Key':'unknown',\n",
    "    'Incidence_Rate':0,\n",
    "    \"Case-Fatality_Ratio\": 0}\n",
    "country_merge = country_merge.fillna(value = values2)\n",
    "print(country_merge.isnull().sum())\n",
    "print(\"data shape: \", country_merge.shape)"
   ]
  },
  {
   "cell_type": "code",
   "execution_count": 24,
   "metadata": {},
   "outputs": [
    {
     "data": {
      "text/plain": [
       "(557364, 22)"
      ]
     },
     "execution_count": 24,
     "metadata": {},
     "output_type": "execute_result"
    }
   ],
   "source": [
    "country_merge.to_csv(\"newfile.csv\",index = False,header=True)\n",
    "newdata = pd.read_csv(\"newfile.csv\")\n",
    "newdata.shape"
   ]
  },
  {
   "cell_type": "code",
   "execution_count": 25,
   "metadata": {},
   "outputs": [
    {
     "data": {
      "text/html": [
       "<div>\n",
       "<style scoped>\n",
       "    .dataframe tbody tr th:only-of-type {\n",
       "        vertical-align: middle;\n",
       "    }\n",
       "\n",
       "    .dataframe tbody tr th {\n",
       "        vertical-align: top;\n",
       "    }\n",
       "\n",
       "    .dataframe thead th {\n",
       "        text-align: right;\n",
       "    }\n",
       "</style>\n",
       "<table border=\"1\" class=\"dataframe\">\n",
       "  <thead>\n",
       "    <tr style=\"text-align: right;\">\n",
       "      <th></th>\n",
       "      <th>age</th>\n",
       "      <th>sex</th>\n",
       "      <th>province</th>\n",
       "      <th>country</th>\n",
       "      <th>latitude</th>\n",
       "      <th>longitude</th>\n",
       "      <th>date_confirmation</th>\n",
       "      <th>additional_information</th>\n",
       "      <th>source</th>\n",
       "      <th>outcome</th>\n",
       "      <th>...</th>\n",
       "      <th>Last_Update</th>\n",
       "      <th>Lat</th>\n",
       "      <th>Long_</th>\n",
       "      <th>Confirmed</th>\n",
       "      <th>Deaths</th>\n",
       "      <th>Recovered</th>\n",
       "      <th>Active</th>\n",
       "      <th>Combined_Key</th>\n",
       "      <th>Incidence_Rate</th>\n",
       "      <th>Case-Fatality_Ratio</th>\n",
       "    </tr>\n",
       "  </thead>\n",
       "  <tbody>\n",
       "    <tr>\n",
       "      <th>0</th>\n",
       "      <td>43.0</td>\n",
       "      <td>unknown</td>\n",
       "      <td>Gujarat</td>\n",
       "      <td>India</td>\n",
       "      <td>23.02776</td>\n",
       "      <td>72.60027</td>\n",
       "      <td>15.04.2020</td>\n",
       "      <td>unknown</td>\n",
       "      <td>https://gujcovid19.gujarat.gov.in/uploads/pres...</td>\n",
       "      <td>hospitalized</td>\n",
       "      <td>...</td>\n",
       "      <td>2020-09-20 04:22:56</td>\n",
       "      <td>22.694884</td>\n",
       "      <td>71.590923</td>\n",
       "      <td>120336.0</td>\n",
       "      <td>3286.0</td>\n",
       "      <td>100974.0</td>\n",
       "      <td>16076.0</td>\n",
       "      <td>Gujarat, India</td>\n",
       "      <td>188.400627</td>\n",
       "      <td>2.730687</td>\n",
       "    </tr>\n",
       "  </tbody>\n",
       "</table>\n",
       "<p>1 rows × 22 columns</p>\n",
       "</div>"
      ],
      "text/plain": [
       "    age      sex province country  latitude  longitude date_confirmation  \\\n",
       "0  43.0  unknown  Gujarat   India  23.02776   72.60027        15.04.2020   \n",
       "\n",
       "  additional_information                                             source  \\\n",
       "0                unknown  https://gujcovid19.gujarat.gov.in/uploads/pres...   \n",
       "\n",
       "        outcome  ...          Last_Update        Lat      Long_  Confirmed  \\\n",
       "0  hospitalized  ...  2020-09-20 04:22:56  22.694884  71.590923   120336.0   \n",
       "\n",
       "   Deaths  Recovered   Active    Combined_Key  Incidence_Rate  \\\n",
       "0  3286.0   100974.0  16076.0  Gujarat, India      188.400627   \n",
       "\n",
       "  Case-Fatality_Ratio  \n",
       "0            2.730687  \n",
       "\n",
       "[1 rows x 22 columns]"
      ]
     },
     "execution_count": 25,
     "metadata": {},
     "output_type": "execute_result"
    }
   ],
   "source": [
    "\n",
    "newdata.head(1)"
   ]
  },
  {
   "cell_type": "markdown",
   "metadata": {},
   "source": [
    "from numpy import nan\n",
    "def JoinDataSet():\n",
    "    tmp = icData\n",
    "    tmp2 = locData\n",
    "    n = len(tmp2)\n",
    "    \n",
    "    dropped_location = tmp2.dropna()\n",
    "    dropped_cases = tmp.dropna();\n",
    "    \n",
    "    #merge based on country,province dropped_cases\n",
    "    country_merge = dropped_cases.merge(dropped_location, how='left', left_on=['country','province'], right_on=['Country_Region',\"Province_State\"])\n",
    "    \n",
    "    #merge based on longitude and latitude\n",
    "    coord_merge = pd.merge(dropped_cases,dropped_location,left_on = ['latitude','longitude'],right_on=['Lat','Long_'])\n",
    "    \n",
    "    \n",
    "    \n",
    "    country_merge.to_csv(\"newfile.csv\",index = False,header=True)\n",
    "    return \n",
    "    \n",
    "JoinDataSet();"
   ]
  },
  {
   "cell_type": "code",
   "execution_count": 26,
   "metadata": {},
   "outputs": [
    {
     "name": "stderr",
     "output_type": "stream",
     "text": [
      "/anaconda3/lib/python3.6/site-packages/sklearn/linear_model/logistic.py:758: ConvergenceWarning: lbfgs failed to converge. Increase the number of iterations.\n",
      "  \"of iterations.\", ConvergenceWarning)\n",
      "/anaconda3/lib/python3.6/site-packages/sklearn/metrics/classification.py:1143: UndefinedMetricWarning: Precision is ill-defined and being set to 0.0 in labels with no predicted samples.\n",
      "  'precision', 'predicted', average, warn_for)\n"
     ]
    },
    {
     "name": "stdout",
     "output_type": "stream",
     "text": [
      "accuracy 0.699407031299059\n",
      "[2 2 1 ... 2 1 1]\n",
      "Accuracy 0.699407031299059\n",
      "balanced accuracy 0.42989271228027315\n",
      "precision score 0.35740488987785596\n",
      "[[    2   925   301     0]\n",
      " [  173 34617  5921     0]\n",
      " [  732  5881 43346     0]\n",
      " [   14 17561  2000     0]]\n"
     ]
    }
   ],
   "source": [
    "from sklearn import svm\n",
    "from sklearn.model_selection import train_test_split\n",
    "from sklearn.preprocessing import LabelEncoder\n",
    "from sklearn import metrics\n",
    "from sklearn.metrics import confusion_matrix\n",
    "import pylab as pl\n",
    "from sklearn import tree\n",
    "from sklearn.model_selection import KFold\n",
    "from sklearn.model_selection import cross_val_score\n",
    "from sklearn.linear_model import LogisticRegression\n",
    "\n",
    "\n",
    "keep_col = ['age','sex','province','country','outcome']\n",
    "training_col= ['age','sex','province','country']\n",
    "cvt_col = ['sex','province','country','outcome']\n",
    "\n",
    "labelencoder = LabelEncoder()\n",
    "\n",
    "newfile = pd.read_csv(\"newfile.csv\");\n",
    "newfile.head(10)\n",
    "\n",
    "newfile = newfile[keep_col]\n",
    "\n",
    "newfile = newfile.replace(['unknown'],'0')\n",
    "# newfile.drop_duplicates(keep = False,inplace = True)\n",
    "\n",
    "newfile.shape\n",
    "\n",
    "\n",
    "for col in cvt_col:\n",
    "    \n",
    "    newfile[col] = labelencoder.fit_transform(newfile[col])\n",
    "\n",
    "\n",
    "newfile.head(20)\n",
    "target = newfile['outcome']\n",
    "trains = newfile[training_col]\n",
    "\n",
    "X_train,X_test,y_train,y_test = train_test_split(trains,target,test_size = 0.2,random_state=11)\n",
    "X_train.head(10)\n",
    "y_train.head(10)\n",
    "\n",
    "def SVM():\n",
    "    clf = svm.SVC(kernel=\"linear\",gamma='auto')\n",
    "    clf.fit(X_train,y_train)\n",
    "    y_pred = clf.predict(X_test)\n",
    "    print(y_pred)\n",
    "    ans = []\n",
    "    for val in y_test:\n",
    "        ans.append(val)\n",
    "    print(ans)\n",
    "    print(\"Accuracy\",metrics.accuracy_score(y_test,y_pred))\n",
    "    \n",
    "    matrix  = confusion_matrix( ans, y_pred)\n",
    "    \n",
    "    print(matrix)\n",
    "#     plt.show();\n",
    "\n",
    "\n",
    "def decisiontree():\n",
    "    clf = tree.DecisionTreeClassifier()\n",
    "    clf = clf.fit(X_train,y_train);\n",
    "    y_pred = clf.predict(X_test)\n",
    "    print(y_pred)\n",
    "    print(\"Accuracy\",metrics.accuracy_score(y_test,y_pred))\n",
    "    #balanced accuracy\n",
    "    print(\"balanced accuracy\",metrics.balanced_accuracy_score(y_test,y_pred));\n",
    "    print(\"precision score\",metrics.precision_score(y_test,y_pred,average=\"macro\"))\n",
    "    print(metrics.confusion_matrix(y_test,y_pred))\n",
    "    \n",
    "    return\n",
    "\n",
    "\n",
    "def logistic():\n",
    "    clf = LogisticRegression(random_state = 0,solver = 'lbfgs',multi_class = 'auto' ).fit(X_train,y_train)\n",
    "    y_pred = clf.predict(X_test)\n",
    "    print(\"accuracy\",metrics.accuracy_score(y_test,y_pred));\n",
    "    print(y_pred)\n",
    "    print(\"Accuracy\",metrics.accuracy_score(y_test,y_pred))\n",
    "    #balanced accuracy\n",
    "    print(\"balanced accuracy\",metrics.balanced_accuracy_score(y_test,y_pred));\n",
    "    print(\"precision score\",metrics.precision_score(y_test,y_pred,average=\"macro\"))\n",
    "    print(metrics.confusion_matrix(y_test,y_pred))\n",
    "    return \n",
    "\n",
    "logistic()\n"
   ]
  },
  {
   "cell_type": "code",
   "execution_count": 27,
   "metadata": {},
   "outputs": [
    {
     "name": "stderr",
     "output_type": "stream",
     "text": [
      "/anaconda3/lib/python3.6/site-packages/sklearn/linear_model/logistic.py:758: ConvergenceWarning: lbfgs failed to converge. Increase the number of iterations.\n",
      "  \"of iterations.\", ConvergenceWarning)\n"
     ]
    }
   ],
   "source": [
    "clf = LogisticRegression(random_state = 0,solver = 'lbfgs',multi_class = 'auto' ).fit(X_train,y_train)\n",
    "y_pred = clf.predict(X_test)"
   ]
  },
  {
   "cell_type": "code",
   "execution_count": 28,
   "metadata": {},
   "outputs": [
    {
     "name": "stdout",
     "output_type": "stream",
     "text": [
      "Accuracy 0.699407031299059\n"
     ]
    }
   ],
   "source": [
    "print(\"Accuracy\",metrics.accuracy_score(y_test,y_pred))\n",
    "#this is the accuracy score "
   ]
  },
  {
   "cell_type": "code",
   "execution_count": 29,
   "metadata": {},
   "outputs": [
    {
     "name": "stdout",
     "output_type": "stream",
     "text": [
      "balanced accuracy 0.42989271228027315\n"
     ]
    }
   ],
   "source": [
    "#this is the balanced accuracy that calculates the average of sensitivity and specificity of the result\n",
    "print(\"balanced accuracy\",metrics.balanced_accuracy_score(y_test,y_pred));"
   ]
  },
  {
   "cell_type": "code",
   "execution_count": 30,
   "metadata": {},
   "outputs": [
    {
     "name": "stdout",
     "output_type": "stream",
     "text": [
      "precision score 0.35740488987785596\n"
     ]
    },
    {
     "name": "stderr",
     "output_type": "stream",
     "text": [
      "/anaconda3/lib/python3.6/site-packages/sklearn/metrics/classification.py:1143: UndefinedMetricWarning: Precision is ill-defined and being set to 0.0 in labels with no predicted samples.\n",
      "  'precision', 'predicted', average, warn_for)\n"
     ]
    }
   ],
   "source": [
    "#calculates the percentage of true positive using tp/(tp+fp), tp = true positive and fp = false positive\n",
    "print(\"precision score\",metrics.precision_score(y_test,y_pred,average=\"macro\"))"
   ]
  },
  {
   "cell_type": "code",
   "execution_count": 31,
   "metadata": {
    "scrolled": false
   },
   "outputs": [
    {
     "name": "stdout",
     "output_type": "stream",
     "text": [
      "[[    2   925   301     0]\n",
      " [  173 34617  5921     0]\n",
      " [  732  5881 43346     0]\n",
      " [   14 17561  2000     0]]\n"
     ]
    }
   ],
   "source": [
    "\n",
    "print(metrics.confusion_matrix(y_test,y_pred))"
   ]
  },
  {
   "cell_type": "code",
   "execution_count": 32,
   "metadata": {},
   "outputs": [
    {
     "name": "stdout",
     "output_type": "stream",
     "text": [
      "Accuracy of x_train 0.6988277404118944\n"
     ]
    }
   ],
   "source": [
    "#check for overfitting: \n",
    "check_pred = clf.predict(X_train)\n",
    "print(\"Accuracy of x_train\",metrics.accuracy_score(check_pred,y_train))\n",
    "#the model didn't overfit because the accuracy of the X_train is not higher than X_test, therefore it doesn't recognize the pattern of the X_train"
   ]
  },
  {
   "cell_type": "code",
   "execution_count": 33,
   "metadata": {},
   "outputs": [
    {
     "name": "stdout",
     "output_type": "stream",
     "text": [
      "balanced accuracy 0.43019643353343257\n"
     ]
    }
   ],
   "source": [
    "print(\"balanced accuracy\",metrics.balanced_accuracy_score(y_train,check_pred));"
   ]
  },
  {
   "cell_type": "code",
   "execution_count": 34,
   "metadata": {},
   "outputs": [
    {
     "name": "stdout",
     "output_type": "stream",
     "text": [
      "precision score 0.3577518194126047\n"
     ]
    },
    {
     "name": "stderr",
     "output_type": "stream",
     "text": [
      "/anaconda3/lib/python3.6/site-packages/sklearn/metrics/classification.py:1143: UndefinedMetricWarning: Precision is ill-defined and being set to 0.0 in labels with no predicted samples.\n",
      "  'precision', 'predicted', average, warn_for)\n"
     ]
    }
   ],
   "source": [
    "print(\"precision score\",metrics.precision_score(y_train,check_pred,average=\"macro\"))"
   ]
  },
  {
   "cell_type": "code",
   "execution_count": null,
   "metadata": {},
   "outputs": [],
   "source": []
  }
 ],
 "metadata": {
  "kernelspec": {
   "display_name": "Python 3",
   "language": "python",
   "name": "python3"
  },
  "language_info": {
   "codemirror_mode": {
    "name": "ipython",
    "version": 3
   },
   "file_extension": ".py",
   "mimetype": "text/x-python",
   "name": "python",
   "nbconvert_exporter": "python",
   "pygments_lexer": "ipython3",
   "version": "3.6.7"
  }
 },
 "nbformat": 4,
 "nbformat_minor": 4
}
