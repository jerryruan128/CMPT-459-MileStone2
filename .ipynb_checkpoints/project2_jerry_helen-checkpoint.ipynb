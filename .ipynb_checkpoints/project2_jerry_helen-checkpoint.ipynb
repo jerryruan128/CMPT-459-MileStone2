{
 "cells": [
  {
   "cell_type": "code",
   "execution_count": 1,
   "metadata": {},
   "outputs": [
    {
     "data": {
      "text/plain": [
       "(557364, 22)"
      ]
     },
     "execution_count": 1,
     "metadata": {},
     "output_type": "execute_result"
    }
   ],
   "source": [
    "import pandas as pd\n",
    "newdata = pd.read_csv(\"newfile.csv\")\n",
    "values2 = {\n",
    "    'Last_Update': 'unknown',\n",
    "    'Country_Region':'unknown',\n",
    "    'Province_State':'unknown',\n",
    "    \"Lat\":0,\n",
    "    \"Long_\":0,\n",
    "    'Confirmed':0,\n",
    "    'Deaths':0,\n",
    "    'Recovered':0,\n",
    "    \"Active\":0,\n",
    "    \"Incidence_Rate\":0,\n",
    "    'Combined_Key':'unknown',\n",
    "    'Incidence_Rate':0,\n",
    "    \"Case-Fatality_Ratio\": 0}\n",
    "newdata = newdata.fillna(value = values2)\n",
    "# print(newdata.isnull().sum())\n",
    "# print(\"data shape: \", newdata.shape)\n",
    "newdata = newdata.dropna()\n",
    "newdata.shape\n"
   ]
  },
  {
   "cell_type": "code",
   "execution_count": 2,
   "metadata": {},
   "outputs": [],
   "source": [
    "from sklearn import preprocessing\n",
    "le = preprocessing.LabelEncoder()\n",
    "for col in ['sex', 'Last_Update','province', 'country','Country_Region','additional_information','source','outcome','Combined_Key','Combined_Key','date_confirmation','Combined_Key','Province_State']:\n",
    "    le = le.fit(newdata[col])\n",
    "    newdata[col] = le.transform(newdata[col])"
   ]
  },
  {
   "cell_type": "code",
   "execution_count": 3,
   "metadata": {},
   "outputs": [
    {
     "data": {
      "text/html": [
       "<div>\n",
       "<style scoped>\n",
       "    .dataframe tbody tr th:only-of-type {\n",
       "        vertical-align: middle;\n",
       "    }\n",
       "\n",
       "    .dataframe tbody tr th {\n",
       "        vertical-align: top;\n",
       "    }\n",
       "\n",
       "    .dataframe thead th {\n",
       "        text-align: right;\n",
       "    }\n",
       "</style>\n",
       "<table border=\"1\" class=\"dataframe\">\n",
       "  <thead>\n",
       "    <tr style=\"text-align: right;\">\n",
       "      <th></th>\n",
       "      <th>age</th>\n",
       "      <th>sex</th>\n",
       "      <th>province</th>\n",
       "      <th>country</th>\n",
       "      <th>latitude</th>\n",
       "      <th>longitude</th>\n",
       "      <th>date_confirmation</th>\n",
       "      <th>additional_information</th>\n",
       "      <th>source</th>\n",
       "      <th>outcome</th>\n",
       "      <th>...</th>\n",
       "      <th>Last_Update</th>\n",
       "      <th>Lat</th>\n",
       "      <th>Long_</th>\n",
       "      <th>Confirmed</th>\n",
       "      <th>Deaths</th>\n",
       "      <th>Recovered</th>\n",
       "      <th>Active</th>\n",
       "      <th>Combined_Key</th>\n",
       "      <th>Incidence_Rate</th>\n",
       "      <th>Case-Fatality_Ratio</th>\n",
       "    </tr>\n",
       "  </thead>\n",
       "  <tbody>\n",
       "    <tr>\n",
       "      <th>0</th>\n",
       "      <td>43.0</td>\n",
       "      <td>2</td>\n",
       "      <td>395</td>\n",
       "      <td>58</td>\n",
       "      <td>23.02776</td>\n",
       "      <td>72.600270</td>\n",
       "      <td>88</td>\n",
       "      <td>20651</td>\n",
       "      <td>1163</td>\n",
       "      <td>1</td>\n",
       "      <td>...</td>\n",
       "      <td>0</td>\n",
       "      <td>22.694884</td>\n",
       "      <td>71.590923</td>\n",
       "      <td>120336.0</td>\n",
       "      <td>3286.0</td>\n",
       "      <td>100974.0</td>\n",
       "      <td>16076.0</td>\n",
       "      <td>143</td>\n",
       "      <td>188.400627</td>\n",
       "      <td>2.730687</td>\n",
       "    </tr>\n",
       "    <tr>\n",
       "      <th>1</th>\n",
       "      <td>21.0</td>\n",
       "      <td>1</td>\n",
       "      <td>679</td>\n",
       "      <td>94</td>\n",
       "      <td>-6.03271</td>\n",
       "      <td>-76.972300</td>\n",
       "      <td>52</td>\n",
       "      <td>20651</td>\n",
       "      <td>9593</td>\n",
       "      <td>2</td>\n",
       "      <td>...</td>\n",
       "      <td>1</td>\n",
       "      <td>0.000000</td>\n",
       "      <td>0.000000</td>\n",
       "      <td>0.0</td>\n",
       "      <td>0.0</td>\n",
       "      <td>0.0</td>\n",
       "      <td>0.0</td>\n",
       "      <td>421</td>\n",
       "      <td>0.000000</td>\n",
       "      <td>0.000000</td>\n",
       "    </tr>\n",
       "    <tr>\n",
       "      <th>2</th>\n",
       "      <td>94.0</td>\n",
       "      <td>0</td>\n",
       "      <td>575</td>\n",
       "      <td>94</td>\n",
       "      <td>-12.04318</td>\n",
       "      <td>-77.028240</td>\n",
       "      <td>88</td>\n",
       "      <td>20651</td>\n",
       "      <td>9593</td>\n",
       "      <td>2</td>\n",
       "      <td>...</td>\n",
       "      <td>0</td>\n",
       "      <td>-11.766533</td>\n",
       "      <td>-76.604498</td>\n",
       "      <td>349167.0</td>\n",
       "      <td>14009.0</td>\n",
       "      <td>0.0</td>\n",
       "      <td>335158.0</td>\n",
       "      <td>201</td>\n",
       "      <td>3285.195465</td>\n",
       "      <td>4.012120</td>\n",
       "    </tr>\n",
       "    <tr>\n",
       "      <th>3</th>\n",
       "      <td>43.0</td>\n",
       "      <td>2</td>\n",
       "      <td>395</td>\n",
       "      <td>58</td>\n",
       "      <td>23.02776</td>\n",
       "      <td>72.600270</td>\n",
       "      <td>126</td>\n",
       "      <td>20651</td>\n",
       "      <td>8191</td>\n",
       "      <td>1</td>\n",
       "      <td>...</td>\n",
       "      <td>0</td>\n",
       "      <td>22.694884</td>\n",
       "      <td>71.590923</td>\n",
       "      <td>120336.0</td>\n",
       "      <td>3286.0</td>\n",
       "      <td>100974.0</td>\n",
       "      <td>16076.0</td>\n",
       "      <td>143</td>\n",
       "      <td>188.400627</td>\n",
       "      <td>2.730687</td>\n",
       "    </tr>\n",
       "    <tr>\n",
       "      <th>4</th>\n",
       "      <td>2.0</td>\n",
       "      <td>0</td>\n",
       "      <td>277</td>\n",
       "      <td>94</td>\n",
       "      <td>-8.40921</td>\n",
       "      <td>-74.555720</td>\n",
       "      <td>166</td>\n",
       "      <td>20651</td>\n",
       "      <td>9593</td>\n",
       "      <td>2</td>\n",
       "      <td>...</td>\n",
       "      <td>1</td>\n",
       "      <td>0.000000</td>\n",
       "      <td>0.000000</td>\n",
       "      <td>0.0</td>\n",
       "      <td>0.0</td>\n",
       "      <td>0.0</td>\n",
       "      <td>0.0</td>\n",
       "      <td>421</td>\n",
       "      <td>0.000000</td>\n",
       "      <td>0.000000</td>\n",
       "    </tr>\n",
       "    <tr>\n",
       "      <th>5</th>\n",
       "      <td>29.0</td>\n",
       "      <td>0</td>\n",
       "      <td>455</td>\n",
       "      <td>94</td>\n",
       "      <td>-14.09402</td>\n",
       "      <td>-75.702840</td>\n",
       "      <td>157</td>\n",
       "      <td>20651</td>\n",
       "      <td>9593</td>\n",
       "      <td>2</td>\n",
       "      <td>...</td>\n",
       "      <td>0</td>\n",
       "      <td>-14.235097</td>\n",
       "      <td>-75.574821</td>\n",
       "      <td>25278.0</td>\n",
       "      <td>1546.0</td>\n",
       "      <td>0.0</td>\n",
       "      <td>23732.0</td>\n",
       "      <td>164</td>\n",
       "      <td>2592.083675</td>\n",
       "      <td>6.115990</td>\n",
       "    </tr>\n",
       "    <tr>\n",
       "      <th>6</th>\n",
       "      <td>43.0</td>\n",
       "      <td>2</td>\n",
       "      <td>302</td>\n",
       "      <td>58</td>\n",
       "      <td>28.61474</td>\n",
       "      <td>77.209100</td>\n",
       "      <td>4</td>\n",
       "      <td>20651</td>\n",
       "      <td>6180</td>\n",
       "      <td>1</td>\n",
       "      <td>...</td>\n",
       "      <td>0</td>\n",
       "      <td>28.646519</td>\n",
       "      <td>77.108980</td>\n",
       "      <td>238828.0</td>\n",
       "      <td>4907.0</td>\n",
       "      <td>201671.0</td>\n",
       "      <td>32250.0</td>\n",
       "      <td>97</td>\n",
       "      <td>1276.409575</td>\n",
       "      <td>2.054617</td>\n",
       "    </tr>\n",
       "    <tr>\n",
       "      <th>7</th>\n",
       "      <td>43.0</td>\n",
       "      <td>2</td>\n",
       "      <td>609</td>\n",
       "      <td>58</td>\n",
       "      <td>18.94017</td>\n",
       "      <td>72.834830</td>\n",
       "      <td>170</td>\n",
       "      <td>20651</td>\n",
       "      <td>806</td>\n",
       "      <td>1</td>\n",
       "      <td>...</td>\n",
       "      <td>0</td>\n",
       "      <td>19.449759</td>\n",
       "      <td>76.108221</td>\n",
       "      <td>1167496.0</td>\n",
       "      <td>31791.0</td>\n",
       "      <td>834432.0</td>\n",
       "      <td>301273.0</td>\n",
       "      <td>214</td>\n",
       "      <td>948.072083</td>\n",
       "      <td>2.723007</td>\n",
       "    </tr>\n",
       "    <tr>\n",
       "      <th>8</th>\n",
       "      <td>47.0</td>\n",
       "      <td>0</td>\n",
       "      <td>641</td>\n",
       "      <td>49</td>\n",
       "      <td>53.79233</td>\n",
       "      <td>13.801800</td>\n",
       "      <td>109</td>\n",
       "      <td>20651</td>\n",
       "      <td>9593</td>\n",
       "      <td>2</td>\n",
       "      <td>...</td>\n",
       "      <td>0</td>\n",
       "      <td>53.612700</td>\n",
       "      <td>12.429600</td>\n",
       "      <td>1105.0</td>\n",
       "      <td>20.0</td>\n",
       "      <td>1014.0</td>\n",
       "      <td>71.0</td>\n",
       "      <td>229</td>\n",
       "      <td>68.647398</td>\n",
       "      <td>1.809955</td>\n",
       "    </tr>\n",
       "    <tr>\n",
       "      <th>9</th>\n",
       "      <td>43.0</td>\n",
       "      <td>2</td>\n",
       "      <td>1116</td>\n",
       "      <td>58</td>\n",
       "      <td>23.79776</td>\n",
       "      <td>87.986406</td>\n",
       "      <td>64</td>\n",
       "      <td>377</td>\n",
       "      <td>8961</td>\n",
       "      <td>1</td>\n",
       "      <td>...</td>\n",
       "      <td>0</td>\n",
       "      <td>23.814082</td>\n",
       "      <td>87.979803</td>\n",
       "      <td>218772.0</td>\n",
       "      <td>4242.0</td>\n",
       "      <td>190021.0</td>\n",
       "      <td>24509.0</td>\n",
       "      <td>410</td>\n",
       "      <td>219.630088</td>\n",
       "      <td>1.939005</td>\n",
       "    </tr>\n",
       "  </tbody>\n",
       "</table>\n",
       "<p>10 rows × 22 columns</p>\n",
       "</div>"
      ],
      "text/plain": [
       "    age  sex  province  country  latitude  longitude  date_confirmation  \\\n",
       "0  43.0    2       395       58  23.02776  72.600270                 88   \n",
       "1  21.0    1       679       94  -6.03271 -76.972300                 52   \n",
       "2  94.0    0       575       94 -12.04318 -77.028240                 88   \n",
       "3  43.0    2       395       58  23.02776  72.600270                126   \n",
       "4   2.0    0       277       94  -8.40921 -74.555720                166   \n",
       "5  29.0    0       455       94 -14.09402 -75.702840                157   \n",
       "6  43.0    2       302       58  28.61474  77.209100                  4   \n",
       "7  43.0    2       609       58  18.94017  72.834830                170   \n",
       "8  47.0    0       641       49  53.79233  13.801800                109   \n",
       "9  43.0    2      1116       58  23.79776  87.986406                 64   \n",
       "\n",
       "   additional_information  source  outcome  ...  Last_Update        Lat  \\\n",
       "0                   20651    1163        1  ...            0  22.694884   \n",
       "1                   20651    9593        2  ...            1   0.000000   \n",
       "2                   20651    9593        2  ...            0 -11.766533   \n",
       "3                   20651    8191        1  ...            0  22.694884   \n",
       "4                   20651    9593        2  ...            1   0.000000   \n",
       "5                   20651    9593        2  ...            0 -14.235097   \n",
       "6                   20651    6180        1  ...            0  28.646519   \n",
       "7                   20651     806        1  ...            0  19.449759   \n",
       "8                   20651    9593        2  ...            0  53.612700   \n",
       "9                     377    8961        1  ...            0  23.814082   \n",
       "\n",
       "       Long_  Confirmed   Deaths  Recovered    Active  Combined_Key  \\\n",
       "0  71.590923   120336.0   3286.0   100974.0   16076.0           143   \n",
       "1   0.000000        0.0      0.0        0.0       0.0           421   \n",
       "2 -76.604498   349167.0  14009.0        0.0  335158.0           201   \n",
       "3  71.590923   120336.0   3286.0   100974.0   16076.0           143   \n",
       "4   0.000000        0.0      0.0        0.0       0.0           421   \n",
       "5 -75.574821    25278.0   1546.0        0.0   23732.0           164   \n",
       "6  77.108980   238828.0   4907.0   201671.0   32250.0            97   \n",
       "7  76.108221  1167496.0  31791.0   834432.0  301273.0           214   \n",
       "8  12.429600     1105.0     20.0     1014.0      71.0           229   \n",
       "9  87.979803   218772.0   4242.0   190021.0   24509.0           410   \n",
       "\n",
       "   Incidence_Rate  Case-Fatality_Ratio  \n",
       "0      188.400627             2.730687  \n",
       "1        0.000000             0.000000  \n",
       "2     3285.195465             4.012120  \n",
       "3      188.400627             2.730687  \n",
       "4        0.000000             0.000000  \n",
       "5     2592.083675             6.115990  \n",
       "6     1276.409575             2.054617  \n",
       "7      948.072083             2.723007  \n",
       "8       68.647398             1.809955  \n",
       "9      219.630088             1.939005  \n",
       "\n",
       "[10 rows x 22 columns]"
      ]
     },
     "execution_count": 3,
     "metadata": {},
     "output_type": "execute_result"
    }
   ],
   "source": [
    "newdata.head(10)"
   ]
  },
  {
   "cell_type": "code",
   "execution_count": 4,
   "metadata": {},
   "outputs": [
    {
     "data": {
      "text/plain": [
       "(557364, 22)"
      ]
     },
     "execution_count": 4,
     "metadata": {},
     "output_type": "execute_result"
    }
   ],
   "source": [
    "newdata.shape"
   ]
  },
  {
   "cell_type": "markdown",
   "metadata": {},
   "source": [
    "Now we have to do the feature selection, I judge the selection by 3 methods: correlation coefficient, PCA, and feature importance for the boostingtree(get it after training and redo the training when drop the features)"
   ]
  },
  {
   "cell_type": "markdown",
   "metadata": {},
   "source": [
    "Analaysis the correlation coefficient between features and outcome using method Spearman"
   ]
  },
  {
   "cell_type": "code",
   "execution_count": 5,
   "metadata": {},
   "outputs": [],
   "source": [
    "corrdata = newdata.corr(method='spearman')['outcome']"
   ]
  },
  {
   "cell_type": "code",
   "execution_count": 6,
   "metadata": {},
   "outputs": [
    {
     "data": {
      "text/plain": [
       "<bound method Series.sort_values of age                       0.040717\n",
       "sex                      -0.193261\n",
       "province                 -0.074264\n",
       "country                   0.050376\n",
       "latitude                 -0.062752\n",
       "longitude                -0.235282\n",
       "date_confirmation         0.005955\n",
       "additional_information    0.009496\n",
       "source                    0.105918\n",
       "outcome                   1.000000\n",
       "Province_State            0.058973\n",
       "Country_Region            0.130523\n",
       "Last_Update               0.143774\n",
       "Lat                      -0.115640\n",
       "Long_                    -0.276693\n",
       "Confirmed                -0.221072\n",
       "Deaths                   -0.171880\n",
       "Recovered                -0.284104\n",
       "Active                   -0.151465\n",
       "Combined_Key              0.054233\n",
       "Incidence_Rate           -0.065610\n",
       "Case-Fatality_Ratio       0.060675\n",
       "Name: outcome, dtype: float64>"
      ]
     },
     "execution_count": 6,
     "metadata": {},
     "output_type": "execute_result"
    }
   ],
   "source": [
    "corrdata.sort_values"
   ]
  },
  {
   "cell_type": "code",
   "execution_count": 7,
   "metadata": {},
   "outputs": [],
   "source": [
    "# from sklearn.decomposition import PCA\n",
    "# pca = PCA(copy=True, n_components=8)\n",
    "# pca.fit(newdata.drop(columns=['outcome','age','sex']))\n",
    "# print(sorted(zip(map(lambda x: round(x, 6), pca.explained_variance_ratio_), newdata.drop(columns=['outcome','age','sex']).columns), reverse=True))"
   ]
  },
  {
   "cell_type": "code",
   "execution_count": 8,
   "metadata": {
    "scrolled": true
   },
   "outputs": [],
   "source": [
    "# corrdata[abs(corrdata) < 0.05]"
   ]
  },
  {
   "cell_type": "code",
   "execution_count": 9,
   "metadata": {},
   "outputs": [],
   "source": [
    "# newdata = newdata.drop(columns=['Country_Region','Confirmed','province','Last_Update','country','Recovered','Deaths'])"
   ]
  },
  {
   "cell_type": "markdown",
   "metadata": {},
   "source": [
    "Now split the newdata into trainset and test set with raito 80%/20%"
   ]
  },
  {
   "cell_type": "code",
   "execution_count": 10,
   "metadata": {},
   "outputs": [],
   "source": [
    "trainsetRatio = 0.8\n",
    "\n",
    "trainset = newdata.sample(frac=trainsetRatio,random_state=11,axis=0)\n",
    "testset = newdata[~newdata.index.isin(trainset.index)]"
   ]
  },
  {
   "cell_type": "code",
   "execution_count": 11,
   "metadata": {},
   "outputs": [
    {
     "data": {
      "text/plain": [
       "(445891, 22)"
      ]
     },
     "execution_count": 11,
     "metadata": {},
     "output_type": "execute_result"
    }
   ],
   "source": [
    "trainset.shape"
   ]
  },
  {
   "cell_type": "code",
   "execution_count": 12,
   "metadata": {},
   "outputs": [
    {
     "data": {
      "text/plain": [
       "(111473, 22)"
      ]
     },
     "execution_count": 12,
     "metadata": {},
     "output_type": "execute_result"
    }
   ],
   "source": [
    "testset.shape"
   ]
  },
  {
   "cell_type": "code",
   "execution_count": 13,
   "metadata": {},
   "outputs": [
    {
     "data": {
      "text/html": [
       "<div>\n",
       "<style scoped>\n",
       "    .dataframe tbody tr th:only-of-type {\n",
       "        vertical-align: middle;\n",
       "    }\n",
       "\n",
       "    .dataframe tbody tr th {\n",
       "        vertical-align: top;\n",
       "    }\n",
       "\n",
       "    .dataframe thead th {\n",
       "        text-align: right;\n",
       "    }\n",
       "</style>\n",
       "<table border=\"1\" class=\"dataframe\">\n",
       "  <thead>\n",
       "    <tr style=\"text-align: right;\">\n",
       "      <th></th>\n",
       "      <th>age</th>\n",
       "      <th>sex</th>\n",
       "      <th>province</th>\n",
       "      <th>country</th>\n",
       "      <th>latitude</th>\n",
       "      <th>longitude</th>\n",
       "      <th>date_confirmation</th>\n",
       "      <th>additional_information</th>\n",
       "      <th>source</th>\n",
       "      <th>outcome</th>\n",
       "      <th>...</th>\n",
       "      <th>Last_Update</th>\n",
       "      <th>Lat</th>\n",
       "      <th>Long_</th>\n",
       "      <th>Confirmed</th>\n",
       "      <th>Deaths</th>\n",
       "      <th>Recovered</th>\n",
       "      <th>Active</th>\n",
       "      <th>Combined_Key</th>\n",
       "      <th>Incidence_Rate</th>\n",
       "      <th>Case-Fatality_Ratio</th>\n",
       "    </tr>\n",
       "  </thead>\n",
       "  <tbody>\n",
       "    <tr>\n",
       "      <th>479121</th>\n",
       "      <td>32.0</td>\n",
       "      <td>1</td>\n",
       "      <td>1176</td>\n",
       "      <td>95</td>\n",
       "      <td>11.81613</td>\n",
       "      <td>122.848400</td>\n",
       "      <td>136</td>\n",
       "      <td>14016</td>\n",
       "      <td>40</td>\n",
       "      <td>2</td>\n",
       "      <td>...</td>\n",
       "      <td>0</td>\n",
       "      <td>12.879721</td>\n",
       "      <td>121.774017</td>\n",
       "      <td>283460.0</td>\n",
       "      <td>4930.0</td>\n",
       "      <td>209885.0</td>\n",
       "      <td>68645.0</td>\n",
       "      <td>292</td>\n",
       "      <td>258.676030</td>\n",
       "      <td>1.739222</td>\n",
       "    </tr>\n",
       "    <tr>\n",
       "      <th>377304</th>\n",
       "      <td>44.0</td>\n",
       "      <td>0</td>\n",
       "      <td>1051</td>\n",
       "      <td>94</td>\n",
       "      <td>-8.11597</td>\n",
       "      <td>-79.022780</td>\n",
       "      <td>153</td>\n",
       "      <td>20651</td>\n",
       "      <td>9593</td>\n",
       "      <td>2</td>\n",
       "      <td>...</td>\n",
       "      <td>1</td>\n",
       "      <td>0.000000</td>\n",
       "      <td>0.000000</td>\n",
       "      <td>0.0</td>\n",
       "      <td>0.0</td>\n",
       "      <td>0.0</td>\n",
       "      <td>0.0</td>\n",
       "      <td>421</td>\n",
       "      <td>0.000000</td>\n",
       "      <td>0.000000</td>\n",
       "    </tr>\n",
       "    <tr>\n",
       "      <th>498424</th>\n",
       "      <td>43.0</td>\n",
       "      <td>2</td>\n",
       "      <td>395</td>\n",
       "      <td>58</td>\n",
       "      <td>22.30946</td>\n",
       "      <td>73.179930</td>\n",
       "      <td>4</td>\n",
       "      <td>20651</td>\n",
       "      <td>6582</td>\n",
       "      <td>1</td>\n",
       "      <td>...</td>\n",
       "      <td>0</td>\n",
       "      <td>22.694884</td>\n",
       "      <td>71.590923</td>\n",
       "      <td>120336.0</td>\n",
       "      <td>3286.0</td>\n",
       "      <td>100974.0</td>\n",
       "      <td>16076.0</td>\n",
       "      <td>143</td>\n",
       "      <td>188.400627</td>\n",
       "      <td>2.730687</td>\n",
       "    </tr>\n",
       "    <tr>\n",
       "      <th>27678</th>\n",
       "      <td>43.0</td>\n",
       "      <td>2</td>\n",
       "      <td>604</td>\n",
       "      <td>58</td>\n",
       "      <td>22.71622</td>\n",
       "      <td>75.865120</td>\n",
       "      <td>99</td>\n",
       "      <td>20651</td>\n",
       "      <td>6752</td>\n",
       "      <td>1</td>\n",
       "      <td>...</td>\n",
       "      <td>0</td>\n",
       "      <td>23.541513</td>\n",
       "      <td>78.289633</td>\n",
       "      <td>100458.0</td>\n",
       "      <td>1901.0</td>\n",
       "      <td>76952.0</td>\n",
       "      <td>21605.0</td>\n",
       "      <td>210</td>\n",
       "      <td>117.688868</td>\n",
       "      <td>1.892333</td>\n",
       "    </tr>\n",
       "    <tr>\n",
       "      <th>544744</th>\n",
       "      <td>12.0</td>\n",
       "      <td>0</td>\n",
       "      <td>230</td>\n",
       "      <td>93</td>\n",
       "      <td>-25.34322</td>\n",
       "      <td>-57.517480</td>\n",
       "      <td>93</td>\n",
       "      <td>20651</td>\n",
       "      <td>9593</td>\n",
       "      <td>2</td>\n",
       "      <td>...</td>\n",
       "      <td>1</td>\n",
       "      <td>0.000000</td>\n",
       "      <td>0.000000</td>\n",
       "      <td>0.0</td>\n",
       "      <td>0.0</td>\n",
       "      <td>0.0</td>\n",
       "      <td>0.0</td>\n",
       "      <td>421</td>\n",
       "      <td>0.000000</td>\n",
       "      <td>0.000000</td>\n",
       "    </tr>\n",
       "    <tr>\n",
       "      <th>271651</th>\n",
       "      <td>69.0</td>\n",
       "      <td>0</td>\n",
       "      <td>342</td>\n",
       "      <td>129</td>\n",
       "      <td>28.76932</td>\n",
       "      <td>-81.709346</td>\n",
       "      <td>141</td>\n",
       "      <td>20651</td>\n",
       "      <td>970</td>\n",
       "      <td>2</td>\n",
       "      <td>...</td>\n",
       "      <td>1</td>\n",
       "      <td>0.000000</td>\n",
       "      <td>0.000000</td>\n",
       "      <td>0.0</td>\n",
       "      <td>0.0</td>\n",
       "      <td>0.0</td>\n",
       "      <td>0.0</td>\n",
       "      <td>421</td>\n",
       "      <td>0.000000</td>\n",
       "      <td>0.000000</td>\n",
       "    </tr>\n",
       "    <tr>\n",
       "      <th>105056</th>\n",
       "      <td>43.0</td>\n",
       "      <td>2</td>\n",
       "      <td>395</td>\n",
       "      <td>58</td>\n",
       "      <td>23.02776</td>\n",
       "      <td>72.600270</td>\n",
       "      <td>106</td>\n",
       "      <td>20651</td>\n",
       "      <td>1168</td>\n",
       "      <td>1</td>\n",
       "      <td>...</td>\n",
       "      <td>0</td>\n",
       "      <td>22.694884</td>\n",
       "      <td>71.590923</td>\n",
       "      <td>120336.0</td>\n",
       "      <td>3286.0</td>\n",
       "      <td>100974.0</td>\n",
       "      <td>16076.0</td>\n",
       "      <td>143</td>\n",
       "      <td>188.400627</td>\n",
       "      <td>2.730687</td>\n",
       "    </tr>\n",
       "    <tr>\n",
       "      <th>472113</th>\n",
       "      <td>43.0</td>\n",
       "      <td>2</td>\n",
       "      <td>609</td>\n",
       "      <td>58</td>\n",
       "      <td>18.94017</td>\n",
       "      <td>72.834830</td>\n",
       "      <td>136</td>\n",
       "      <td>20651</td>\n",
       "      <td>5418</td>\n",
       "      <td>3</td>\n",
       "      <td>...</td>\n",
       "      <td>0</td>\n",
       "      <td>19.449759</td>\n",
       "      <td>76.108221</td>\n",
       "      <td>1167496.0</td>\n",
       "      <td>31791.0</td>\n",
       "      <td>834432.0</td>\n",
       "      <td>301273.0</td>\n",
       "      <td>214</td>\n",
       "      <td>948.072083</td>\n",
       "      <td>2.723007</td>\n",
       "    </tr>\n",
       "    <tr>\n",
       "      <th>96794</th>\n",
       "      <td>43.0</td>\n",
       "      <td>2</td>\n",
       "      <td>302</td>\n",
       "      <td>58</td>\n",
       "      <td>28.61474</td>\n",
       "      <td>77.209100</td>\n",
       "      <td>116</td>\n",
       "      <td>20651</td>\n",
       "      <td>6383</td>\n",
       "      <td>1</td>\n",
       "      <td>...</td>\n",
       "      <td>0</td>\n",
       "      <td>28.646519</td>\n",
       "      <td>77.108980</td>\n",
       "      <td>238828.0</td>\n",
       "      <td>4907.0</td>\n",
       "      <td>201671.0</td>\n",
       "      <td>32250.0</td>\n",
       "      <td>97</td>\n",
       "      <td>1276.409575</td>\n",
       "      <td>2.054617</td>\n",
       "    </tr>\n",
       "    <tr>\n",
       "      <th>180802</th>\n",
       "      <td>43.0</td>\n",
       "      <td>2</td>\n",
       "      <td>609</td>\n",
       "      <td>58</td>\n",
       "      <td>19.87010</td>\n",
       "      <td>75.346020</td>\n",
       "      <td>94</td>\n",
       "      <td>20651</td>\n",
       "      <td>5391</td>\n",
       "      <td>1</td>\n",
       "      <td>...</td>\n",
       "      <td>0</td>\n",
       "      <td>19.449759</td>\n",
       "      <td>76.108221</td>\n",
       "      <td>1167496.0</td>\n",
       "      <td>31791.0</td>\n",
       "      <td>834432.0</td>\n",
       "      <td>301273.0</td>\n",
       "      <td>214</td>\n",
       "      <td>948.072083</td>\n",
       "      <td>2.723007</td>\n",
       "    </tr>\n",
       "  </tbody>\n",
       "</table>\n",
       "<p>10 rows × 22 columns</p>\n",
       "</div>"
      ],
      "text/plain": [
       "         age  sex  province  country  latitude   longitude  date_confirmation  \\\n",
       "479121  32.0    1      1176       95  11.81613  122.848400                136   \n",
       "377304  44.0    0      1051       94  -8.11597  -79.022780                153   \n",
       "498424  43.0    2       395       58  22.30946   73.179930                  4   \n",
       "27678   43.0    2       604       58  22.71622   75.865120                 99   \n",
       "544744  12.0    0       230       93 -25.34322  -57.517480                 93   \n",
       "271651  69.0    0       342      129  28.76932  -81.709346                141   \n",
       "105056  43.0    2       395       58  23.02776   72.600270                106   \n",
       "472113  43.0    2       609       58  18.94017   72.834830                136   \n",
       "96794   43.0    2       302       58  28.61474   77.209100                116   \n",
       "180802  43.0    2       609       58  19.87010   75.346020                 94   \n",
       "\n",
       "        additional_information  source  outcome  ...  Last_Update        Lat  \\\n",
       "479121                   14016      40        2  ...            0  12.879721   \n",
       "377304                   20651    9593        2  ...            1   0.000000   \n",
       "498424                   20651    6582        1  ...            0  22.694884   \n",
       "27678                    20651    6752        1  ...            0  23.541513   \n",
       "544744                   20651    9593        2  ...            1   0.000000   \n",
       "271651                   20651     970        2  ...            1   0.000000   \n",
       "105056                   20651    1168        1  ...            0  22.694884   \n",
       "472113                   20651    5418        3  ...            0  19.449759   \n",
       "96794                    20651    6383        1  ...            0  28.646519   \n",
       "180802                   20651    5391        1  ...            0  19.449759   \n",
       "\n",
       "             Long_  Confirmed   Deaths  Recovered    Active  Combined_Key  \\\n",
       "479121  121.774017   283460.0   4930.0   209885.0   68645.0           292   \n",
       "377304    0.000000        0.0      0.0        0.0       0.0           421   \n",
       "498424   71.590923   120336.0   3286.0   100974.0   16076.0           143   \n",
       "27678    78.289633   100458.0   1901.0    76952.0   21605.0           210   \n",
       "544744    0.000000        0.0      0.0        0.0       0.0           421   \n",
       "271651    0.000000        0.0      0.0        0.0       0.0           421   \n",
       "105056   71.590923   120336.0   3286.0   100974.0   16076.0           143   \n",
       "472113   76.108221  1167496.0  31791.0   834432.0  301273.0           214   \n",
       "96794    77.108980   238828.0   4907.0   201671.0   32250.0            97   \n",
       "180802   76.108221  1167496.0  31791.0   834432.0  301273.0           214   \n",
       "\n",
       "        Incidence_Rate  Case-Fatality_Ratio  \n",
       "479121      258.676030             1.739222  \n",
       "377304        0.000000             0.000000  \n",
       "498424      188.400627             2.730687  \n",
       "27678       117.688868             1.892333  \n",
       "544744        0.000000             0.000000  \n",
       "271651        0.000000             0.000000  \n",
       "105056      188.400627             2.730687  \n",
       "472113      948.072083             2.723007  \n",
       "96794      1276.409575             2.054617  \n",
       "180802      948.072083             2.723007  \n",
       "\n",
       "[10 rows x 22 columns]"
      ]
     },
     "execution_count": 13,
     "metadata": {},
     "output_type": "execute_result"
    }
   ],
   "source": [
    "trainset.head(10)"
   ]
  },
  {
   "cell_type": "markdown",
   "metadata": {},
   "source": [
    "# boosting tree"
   ]
  },
  {
   "cell_type": "markdown",
   "metadata": {},
   "source": [
    "# 2.2 Build model"
   ]
  },
  {
   "cell_type": "code",
   "execution_count": 28,
   "metadata": {},
   "outputs": [],
   "source": [
    "# corrdata = newdata.corr(method='spearman')['outcome']\n",
    "# corrdata.sort_values"
   ]
  },
  {
   "cell_type": "code",
   "execution_count": 29,
   "metadata": {},
   "outputs": [
    {
     "name": "stdout",
     "output_type": "stream",
     "text": [
      "[(0.959824, 'province'), (0.040086, 'country'), (4e-05, 'latitude'), (3.2e-05, 'longitude'), (1.7e-05, 'date_confirmation'), (1e-06, 'additional_information'), (0.0, 'source'), (0.0, 'Province_State')]\n"
     ]
    },
    {
     "data": {
      "text/plain": [
       "age                       0.040717\n",
       "date_confirmation         0.005955\n",
       "additional_information    0.009496\n",
       "Name: outcome, dtype: float64"
      ]
     },
     "execution_count": 29,
     "metadata": {},
     "output_type": "execute_result"
    }
   ],
   "source": [
    "from sklearn.decomposition import PCA\n",
    "pca = PCA(copy=True, n_components=8)\n",
    "pca.fit(newdata.drop(columns=['outcome','age','sex']))\n",
    "print(sorted(zip(map(lambda x: round(x, 6), pca.explained_variance_ratio_), newdata.drop(columns=['outcome','age','sex']).columns), reverse=True))\n",
    "corrdata[abs(corrdata) < 0.05]"
   ]
  },
  {
   "cell_type": "code",
   "execution_count": 30,
   "metadata": {},
   "outputs": [],
   "source": [
    "trainset1 = trainset.drop(columns=['Country_Region','Confirmed','province','Last_Update','country','Recovered','Deaths'])\n",
    "testset1 = testset.drop(columns=['Country_Region','Confirmed','province','Last_Update','country','Recovered','Deaths'])"
   ]
  },
  {
   "cell_type": "code",
   "execution_count": 31,
   "metadata": {},
   "outputs": [
    {
     "data": {
      "text/html": [
       "<div>\n",
       "<style scoped>\n",
       "    .dataframe tbody tr th:only-of-type {\n",
       "        vertical-align: middle;\n",
       "    }\n",
       "\n",
       "    .dataframe tbody tr th {\n",
       "        vertical-align: top;\n",
       "    }\n",
       "\n",
       "    .dataframe thead th {\n",
       "        text-align: right;\n",
       "    }\n",
       "</style>\n",
       "<table border=\"1\" class=\"dataframe\">\n",
       "  <thead>\n",
       "    <tr style=\"text-align: right;\">\n",
       "      <th></th>\n",
       "      <th>age</th>\n",
       "      <th>sex</th>\n",
       "      <th>latitude</th>\n",
       "      <th>longitude</th>\n",
       "      <th>date_confirmation</th>\n",
       "      <th>additional_information</th>\n",
       "      <th>source</th>\n",
       "      <th>outcome</th>\n",
       "      <th>Province_State</th>\n",
       "      <th>Lat</th>\n",
       "      <th>Long_</th>\n",
       "      <th>Active</th>\n",
       "      <th>Combined_Key</th>\n",
       "      <th>Incidence_Rate</th>\n",
       "      <th>Case-Fatality_Ratio</th>\n",
       "    </tr>\n",
       "  </thead>\n",
       "  <tbody>\n",
       "    <tr>\n",
       "      <th>479121</th>\n",
       "      <td>32.0</td>\n",
       "      <td>1</td>\n",
       "      <td>11.81613</td>\n",
       "      <td>122.84840</td>\n",
       "      <td>136</td>\n",
       "      <td>14016</td>\n",
       "      <td>40</td>\n",
       "      <td>2</td>\n",
       "      <td>322</td>\n",
       "      <td>12.879721</td>\n",
       "      <td>121.774017</td>\n",
       "      <td>68645.0</td>\n",
       "      <td>292</td>\n",
       "      <td>258.676030</td>\n",
       "      <td>1.739222</td>\n",
       "    </tr>\n",
       "    <tr>\n",
       "      <th>377304</th>\n",
       "      <td>44.0</td>\n",
       "      <td>0</td>\n",
       "      <td>-8.11597</td>\n",
       "      <td>-79.02278</td>\n",
       "      <td>153</td>\n",
       "      <td>20651</td>\n",
       "      <td>9593</td>\n",
       "      <td>2</td>\n",
       "      <td>322</td>\n",
       "      <td>0.000000</td>\n",
       "      <td>0.000000</td>\n",
       "      <td>0.0</td>\n",
       "      <td>421</td>\n",
       "      <td>0.000000</td>\n",
       "      <td>0.000000</td>\n",
       "    </tr>\n",
       "    <tr>\n",
       "      <th>498424</th>\n",
       "      <td>43.0</td>\n",
       "      <td>2</td>\n",
       "      <td>22.30946</td>\n",
       "      <td>73.17993</td>\n",
       "      <td>4</td>\n",
       "      <td>20651</td>\n",
       "      <td>6582</td>\n",
       "      <td>1</td>\n",
       "      <td>104</td>\n",
       "      <td>22.694884</td>\n",
       "      <td>71.590923</td>\n",
       "      <td>16076.0</td>\n",
       "      <td>143</td>\n",
       "      <td>188.400627</td>\n",
       "      <td>2.730687</td>\n",
       "    </tr>\n",
       "    <tr>\n",
       "      <th>27678</th>\n",
       "      <td>43.0</td>\n",
       "      <td>2</td>\n",
       "      <td>22.71622</td>\n",
       "      <td>75.86512</td>\n",
       "      <td>99</td>\n",
       "      <td>20651</td>\n",
       "      <td>6752</td>\n",
       "      <td>1</td>\n",
       "      <td>156</td>\n",
       "      <td>23.541513</td>\n",
       "      <td>78.289633</td>\n",
       "      <td>21605.0</td>\n",
       "      <td>210</td>\n",
       "      <td>117.688868</td>\n",
       "      <td>1.892333</td>\n",
       "    </tr>\n",
       "    <tr>\n",
       "      <th>544744</th>\n",
       "      <td>12.0</td>\n",
       "      <td>0</td>\n",
       "      <td>-25.34322</td>\n",
       "      <td>-57.51748</td>\n",
       "      <td>93</td>\n",
       "      <td>20651</td>\n",
       "      <td>9593</td>\n",
       "      <td>2</td>\n",
       "      <td>322</td>\n",
       "      <td>0.000000</td>\n",
       "      <td>0.000000</td>\n",
       "      <td>0.0</td>\n",
       "      <td>421</td>\n",
       "      <td>0.000000</td>\n",
       "      <td>0.000000</td>\n",
       "    </tr>\n",
       "  </tbody>\n",
       "</table>\n",
       "</div>"
      ],
      "text/plain": [
       "         age  sex  latitude  longitude  date_confirmation  \\\n",
       "479121  32.0    1  11.81613  122.84840                136   \n",
       "377304  44.0    0  -8.11597  -79.02278                153   \n",
       "498424  43.0    2  22.30946   73.17993                  4   \n",
       "27678   43.0    2  22.71622   75.86512                 99   \n",
       "544744  12.0    0 -25.34322  -57.51748                 93   \n",
       "\n",
       "        additional_information  source  outcome  Province_State        Lat  \\\n",
       "479121                   14016      40        2             322  12.879721   \n",
       "377304                   20651    9593        2             322   0.000000   \n",
       "498424                   20651    6582        1             104  22.694884   \n",
       "27678                    20651    6752        1             156  23.541513   \n",
       "544744                   20651    9593        2             322   0.000000   \n",
       "\n",
       "             Long_   Active  Combined_Key  Incidence_Rate  Case-Fatality_Ratio  \n",
       "479121  121.774017  68645.0           292      258.676030             1.739222  \n",
       "377304    0.000000      0.0           421        0.000000             0.000000  \n",
       "498424   71.590923  16076.0           143      188.400627             2.730687  \n",
       "27678    78.289633  21605.0           210      117.688868             1.892333  \n",
       "544744    0.000000      0.0           421        0.000000             0.000000  "
      ]
     },
     "execution_count": 31,
     "metadata": {},
     "output_type": "execute_result"
    }
   ],
   "source": [
    "trainset1.head()"
   ]
  },
  {
   "cell_type": "code",
   "execution_count": 32,
   "metadata": {},
   "outputs": [
    {
     "data": {
      "text/html": [
       "<div>\n",
       "<style scoped>\n",
       "    .dataframe tbody tr th:only-of-type {\n",
       "        vertical-align: middle;\n",
       "    }\n",
       "\n",
       "    .dataframe tbody tr th {\n",
       "        vertical-align: top;\n",
       "    }\n",
       "\n",
       "    .dataframe thead th {\n",
       "        text-align: right;\n",
       "    }\n",
       "</style>\n",
       "<table border=\"1\" class=\"dataframe\">\n",
       "  <thead>\n",
       "    <tr style=\"text-align: right;\">\n",
       "      <th></th>\n",
       "      <th>age</th>\n",
       "      <th>sex</th>\n",
       "      <th>latitude</th>\n",
       "      <th>longitude</th>\n",
       "      <th>date_confirmation</th>\n",
       "      <th>additional_information</th>\n",
       "      <th>source</th>\n",
       "      <th>outcome</th>\n",
       "      <th>Province_State</th>\n",
       "      <th>Lat</th>\n",
       "      <th>Long_</th>\n",
       "      <th>Active</th>\n",
       "      <th>Combined_Key</th>\n",
       "      <th>Incidence_Rate</th>\n",
       "      <th>Case-Fatality_Ratio</th>\n",
       "    </tr>\n",
       "  </thead>\n",
       "  <tbody>\n",
       "    <tr>\n",
       "      <th>2</th>\n",
       "      <td>94.0</td>\n",
       "      <td>0</td>\n",
       "      <td>-12.04318</td>\n",
       "      <td>-77.02824</td>\n",
       "      <td>88</td>\n",
       "      <td>20651</td>\n",
       "      <td>9593</td>\n",
       "      <td>2</td>\n",
       "      <td>149</td>\n",
       "      <td>-11.766533</td>\n",
       "      <td>-76.604498</td>\n",
       "      <td>335158.0</td>\n",
       "      <td>201</td>\n",
       "      <td>3285.195465</td>\n",
       "      <td>4.012120</td>\n",
       "    </tr>\n",
       "    <tr>\n",
       "      <th>5</th>\n",
       "      <td>29.0</td>\n",
       "      <td>0</td>\n",
       "      <td>-14.09402</td>\n",
       "      <td>-75.70284</td>\n",
       "      <td>157</td>\n",
       "      <td>20651</td>\n",
       "      <td>9593</td>\n",
       "      <td>2</td>\n",
       "      <td>123</td>\n",
       "      <td>-14.235097</td>\n",
       "      <td>-75.574821</td>\n",
       "      <td>23732.0</td>\n",
       "      <td>164</td>\n",
       "      <td>2592.083675</td>\n",
       "      <td>6.115990</td>\n",
       "    </tr>\n",
       "    <tr>\n",
       "      <th>15</th>\n",
       "      <td>50.0</td>\n",
       "      <td>0</td>\n",
       "      <td>-5.19083</td>\n",
       "      <td>-80.60516</td>\n",
       "      <td>34</td>\n",
       "      <td>20651</td>\n",
       "      <td>9593</td>\n",
       "      <td>2</td>\n",
       "      <td>223</td>\n",
       "      <td>-5.133361</td>\n",
       "      <td>-80.335861</td>\n",
       "      <td>31388.0</td>\n",
       "      <td>295</td>\n",
       "      <td>1625.927734</td>\n",
       "      <td>5.738911</td>\n",
       "    </tr>\n",
       "    <tr>\n",
       "      <th>18</th>\n",
       "      <td>43.0</td>\n",
       "      <td>2</td>\n",
       "      <td>25.42442</td>\n",
       "      <td>86.13367</td>\n",
       "      <td>158</td>\n",
       "      <td>20651</td>\n",
       "      <td>6314</td>\n",
       "      <td>3</td>\n",
       "      <td>34</td>\n",
       "      <td>25.679658</td>\n",
       "      <td>85.604840</td>\n",
       "      <td>12609.0</td>\n",
       "      <td>47</td>\n",
       "      <td>132.386296</td>\n",
       "      <td>0.519919</td>\n",
       "    </tr>\n",
       "    <tr>\n",
       "      <th>21</th>\n",
       "      <td>38.0</td>\n",
       "      <td>1</td>\n",
       "      <td>-16.35818</td>\n",
       "      <td>-71.50014</td>\n",
       "      <td>94</td>\n",
       "      <td>20651</td>\n",
       "      <td>9593</td>\n",
       "      <td>2</td>\n",
       "      <td>17</td>\n",
       "      <td>-15.843524</td>\n",
       "      <td>-72.475539</td>\n",
       "      <td>37749.0</td>\n",
       "      <td>22</td>\n",
       "      <td>2607.586483</td>\n",
       "      <td>3.321723</td>\n",
       "    </tr>\n",
       "  </tbody>\n",
       "</table>\n",
       "</div>"
      ],
      "text/plain": [
       "     age  sex  latitude  longitude  date_confirmation  additional_information  \\\n",
       "2   94.0    0 -12.04318  -77.02824                 88                   20651   \n",
       "5   29.0    0 -14.09402  -75.70284                157                   20651   \n",
       "15  50.0    0  -5.19083  -80.60516                 34                   20651   \n",
       "18  43.0    2  25.42442   86.13367                158                   20651   \n",
       "21  38.0    1 -16.35818  -71.50014                 94                   20651   \n",
       "\n",
       "    source  outcome  Province_State        Lat      Long_    Active  \\\n",
       "2     9593        2             149 -11.766533 -76.604498  335158.0   \n",
       "5     9593        2             123 -14.235097 -75.574821   23732.0   \n",
       "15    9593        2             223  -5.133361 -80.335861   31388.0   \n",
       "18    6314        3              34  25.679658  85.604840   12609.0   \n",
       "21    9593        2              17 -15.843524 -72.475539   37749.0   \n",
       "\n",
       "    Combined_Key  Incidence_Rate  Case-Fatality_Ratio  \n",
       "2            201     3285.195465             4.012120  \n",
       "5            164     2592.083675             6.115990  \n",
       "15           295     1625.927734             5.738911  \n",
       "18            47      132.386296             0.519919  \n",
       "21            22     2607.586483             3.321723  "
      ]
     },
     "execution_count": 32,
     "metadata": {},
     "output_type": "execute_result"
    }
   ],
   "source": [
    "testset1.head()"
   ]
  },
  {
   "cell_type": "code",
   "execution_count": 33,
   "metadata": {},
   "outputs": [],
   "source": [
    "trainy = trainset1['outcome']\n",
    "trainX = trainset1.drop(columns=['outcome'])\n",
    "testy = testset1['outcome']\n",
    "testX = testset1.drop(columns=['outcome'])"
   ]
  },
  {
   "cell_type": "code",
   "execution_count": 34,
   "metadata": {},
   "outputs": [],
   "source": [
    "# trainX\n",
    "# trainy\n",
    "# trainX.iloc[1]"
   ]
  },
  {
   "cell_type": "code",
   "execution_count": 35,
   "metadata": {},
   "outputs": [],
   "source": [
    "from sklearn.ensemble import GradientBoostingClassifier\n",
    "from sklearn import metrics\n",
    "from sklearn.model_selection import GridSearchCV\n",
    "import pickle\n",
    "gbm0 = GradientBoostingClassifier(n_estimators=100, learning_rate=1.0,max_depth=3, random_state=0)"
   ]
  },
  {
   "cell_type": "code",
   "execution_count": 36,
   "metadata": {},
   "outputs": [],
   "source": [
    "gbm0.fit(trainX,trainy)\n",
    "# save classifier\n",
    "f = open('boosting_tree_clf.pickle', 'wb')\n",
    "pickle.dump(gbm0, f)\n",
    "f.close()\n"
   ]
  },
  {
   "cell_type": "markdown",
   "metadata": {},
   "source": [
    "# 2.3 Evaluation"
   ]
  },
  {
   "cell_type": "code",
   "execution_count": 37,
   "metadata": {},
   "outputs": [],
   "source": [
    "f = open('boosting_tree_clf.pickle', 'rb')\n",
    "gbm0 = pickle.load(f)\n",
    "f.close()\n",
    "    \n",
    "y_pred = gbm0.predict(testX)\n",
    "y_predprob = gbm0.predict_proba(testX)[:,1]"
   ]
  },
  {
   "cell_type": "code",
   "execution_count": 38,
   "metadata": {},
   "outputs": [
    {
     "name": "stdout",
     "output_type": "stream",
     "text": [
      "Features sorted by their score:\n",
      "[(0.39513, 'age'), (0.35322, 'longitude'), (0.1116, 'Long_'), (0.04893, 'Case-Fatality_Ratio'), (0.03903, 'latitude'), (0.02792, 'source'), (0.01041, 'sex'), (0.00522, 'Lat'), (0.00437, 'date_confirmation'), (0.00157, 'additional_information'), (0.00096, 'Incidence_Rate'), (0.00062, 'Combined_Key'), (0.00056, 'Active'), (0.00045, 'Province_State')]\n"
     ]
    }
   ],
   "source": [
    "print(\"Features sorted by their score:\")\n",
    "print(sorted(zip(map(lambda x: round(x, 5), gbm0.feature_importances_), trainX.columns), reverse=True))"
   ]
  },
  {
   "cell_type": "code",
   "execution_count": 39,
   "metadata": {},
   "outputs": [
    {
     "data": {
      "text/plain": [
       "array([[ 32.      , 122.8484  , 121.774017],\n",
       "       [ 44.      , -79.02278 ,   0.      ],\n",
       "       [ 43.      ,  73.17993 ,  71.590923],\n",
       "       ...,\n",
       "       [ 43.      ,  72.83483 ,  76.108221],\n",
       "       [ 34.      ,  80.28252 ,  78.400624],\n",
       "       [ 43.      ,  76.16001 ,  73.847973]])"
      ]
     },
     "execution_count": 39,
     "metadata": {},
     "output_type": "execute_result"
    }
   ],
   "source": [
    "from sklearn.feature_selection import SelectFromModel\n",
    "model = SelectFromModel(gbm0, prefit=True)\n",
    "model.transform(trainX)"
   ]
  },
  {
   "cell_type": "code",
   "execution_count": 40,
   "metadata": {
    "scrolled": true
   },
   "outputs": [],
   "source": [
    "# testy[0]"
   ]
  },
  {
   "cell_type": "markdown",
   "metadata": {},
   "source": [
    "accuracy aka true ratio"
   ]
  },
  {
   "cell_type": "code",
   "execution_count": 41,
   "metadata": {},
   "outputs": [
    {
     "data": {
      "text/plain": [
       "0.8824378997604801"
      ]
     },
     "execution_count": 41,
     "metadata": {},
     "output_type": "execute_result"
    }
   ],
   "source": [
    "metrics.accuracy_score(testy, y_pred)"
   ]
  },
  {
   "cell_type": "code",
   "execution_count": 42,
   "metadata": {},
   "outputs": [
    {
     "name": "stdout",
     "output_type": "stream",
     "text": [
      "f1_score:  0.6565117196170507\n",
      "precision:  0.7329796119742618\n",
      "recall:  0.6376827913783056\n"
     ]
    }
   ],
   "source": [
    "# f1: calculated from the precision and recall\n",
    "# recall: ratio of true values are predicted as true\n",
    "print('f1_score: ',metrics.f1_score(testy, y_pred,average='macro'))\n",
    "print('precision: ',metrics.precision_score(testy, y_pred,average='macro'))\n",
    "print('recall: ',metrics.recall_score(testy,y_pred,average='macro'))"
   ]
  },
  {
   "cell_type": "markdown",
   "metadata": {},
   "source": [
    "matrix for confusion(real value VS predicted value"
   ]
  },
  {
   "cell_type": "markdown",
   "metadata": {},
   "source": [
    "# 2.4 overfitting"
   ]
  },
  {
   "cell_type": "code",
   "execution_count": 43,
   "metadata": {},
   "outputs": [
    {
     "data": {
      "text/plain": [
       "array([[   96,   721,    61,   289],\n",
       "       [   34, 38155,    16,  2299],\n",
       "       [  128,    18, 49504,   408],\n",
       "       [    8,  8518,   605, 10613]])"
      ]
     },
     "execution_count": 43,
     "metadata": {},
     "output_type": "execute_result"
    }
   ],
   "source": [
    "metrics.confusion_matrix(testy,y_pred)"
   ]
  },
  {
   "cell_type": "markdown",
   "metadata": {},
   "source": [
    "Now check if the model overfitting   \n",
    "I evaluate the the accuracy, precision score and f1 acore of traning dataset   \n",
    "They are very close to the performance in testing dataset   \n",
    "So there is no overfitting in my model  "
   ]
  },
  {
   "cell_type": "code",
   "execution_count": 44,
   "metadata": {},
   "outputs": [],
   "source": [
    "y_train_pre = gbm0.predict(trainX)"
   ]
  },
  {
   "cell_type": "code",
   "execution_count": 45,
   "metadata": {},
   "outputs": [
    {
     "data": {
      "text/plain": [
       "0.8831553002863929"
      ]
     },
     "execution_count": 45,
     "metadata": {},
     "output_type": "execute_result"
    }
   ],
   "source": [
    "metrics.accuracy_score(trainy, y_train_pre)"
   ]
  },
  {
   "cell_type": "code",
   "execution_count": 46,
   "metadata": {},
   "outputs": [
    {
     "data": {
      "text/plain": [
       "0.6527655265618565"
      ]
     },
     "execution_count": 46,
     "metadata": {},
     "output_type": "execute_result"
    }
   ],
   "source": [
    "metrics.f1_score(trainy, y_train_pre,average='macro')"
   ]
  },
  {
   "cell_type": "code",
   "execution_count": 47,
   "metadata": {},
   "outputs": [
    {
     "data": {
      "text/plain": [
       "0.7272438340228404"
      ]
     },
     "execution_count": 47,
     "metadata": {},
     "output_type": "execute_result"
    }
   ],
   "source": [
    "metrics.precision_score(trainy, y_train_pre,average='macro')"
   ]
  },
  {
   "cell_type": "markdown",
   "metadata": {},
   "source": [
    "# random forest"
   ]
  },
  {
   "cell_type": "markdown",
   "metadata": {},
   "source": [
    "# 2.2 build model"
   ]
  },
  {
   "cell_type": "code",
   "execution_count": 48,
   "metadata": {},
   "outputs": [],
   "source": [
    "from sklearn.model_selection import train_test_split\n",
    "from sklearn.naive_bayes import GaussianNB\n",
    "from sklearn.naive_bayes import CategoricalNB\n",
    "from sklearn import preprocessing\n",
    "from sklearn.ensemble import RandomForestClassifier\n",
    "import pickle"
   ]
  },
  {
   "cell_type": "code",
   "execution_count": 49,
   "metadata": {},
   "outputs": [],
   "source": [
    "# case 6\n",
    "# age,date_confirmed, confirmed, deaths, recovered, active,incidence_rate,death_rate, sex, date_confirmed, country, province,outcome\n",
    "trainset2 = trainset.drop(columns = ['additional_information','source','Province_State','Country_Region','Last_Update','Lat','Long_','Combined_Key'])\n",
    "testset2 = testset.drop(columns = ['additional_information','source','Province_State','Country_Region','Last_Update','Lat','Long_','Combined_Key'])\n",
    "trainset2 = trainset2.drop(columns=['province','date_confirmation'])\n",
    "testset2 = testset2.drop(columns=['province','date_confirmation'])"
   ]
  },
  {
   "cell_type": "code",
   "execution_count": 50,
   "metadata": {},
   "outputs": [],
   "source": [
    "# testset2.head()\n",
    "# trainset2.head()"
   ]
  },
  {
   "cell_type": "code",
   "execution_count": 51,
   "metadata": {},
   "outputs": [],
   "source": [
    "train_y = trainset2['outcome']\n",
    "train_X = trainset2.drop(columns=['outcome'])\n",
    "test_y = testset2['outcome']\n",
    "test_X = testset2.drop(columns=['outcome'])"
   ]
  },
  {
   "cell_type": "code",
   "execution_count": 52,
   "metadata": {},
   "outputs": [
    {
     "name": "stdout",
     "output_type": "stream",
     "text": [
      "0.8011\n"
     ]
    }
   ],
   "source": [
    "RF = RandomForestClassifier(n_estimators=100, max_depth=2, random_state=0)\n",
    "RF.fit(train_X, train_y)\n",
    "\n",
    "f = open('random_forest_clf.pickle', 'wb')\n",
    "pickle.dump(RF, f)\n",
    "f.close()\n",
    "\n",
    "RF.predict(test_X)\n",
    "print(round(RF.score(train_X, train_y), 4))"
   ]
  },
  {
   "cell_type": "markdown",
   "metadata": {},
   "source": [
    "# 2.3 evaluation "
   ]
  },
  {
   "cell_type": "code",
   "execution_count": 53,
   "metadata": {},
   "outputs": [],
   "source": [
    "from sklearn import metrics\n",
    "import numpy as np\n",
    "from sklearn.metrics import roc_auc_score\n",
    "import matplotlib.pyplot as plt"
   ]
  },
  {
   "cell_type": "code",
   "execution_count": 54,
   "metadata": {},
   "outputs": [],
   "source": [
    "def RF_score(test_X, test_y):\n",
    "    f = open('random_forest_clf.pickle', 'rb')\n",
    "    RF_model = pickle.load(f)\n",
    "    f.close()\n",
    "    \n",
    "    y_pred_test = RF_model.predict(test_X)\n",
    "    print(\"Accuracy_score:\",metrics.accuracy_score(test_y, y_pred_test))\n",
    "    print(\"recall: \", metrics.recall_score(test_y, y_pred_test, average='micro'))\n",
    "    print(\"precision: \", metrics.precision_score(test_y, y_pred_test, average='micro'))\n",
    "    print(\"f1_score: \", metrics.f1_score(test_y, y_pred_test, average='micro'))\n",
    "#     print(\"ROC_score: \",  metrics.roc_auc_score(test_y, y_pred_test, average='macro',multi_class='ovr', labels=None))\n",
    "\n"
   ]
  },
  {
   "cell_type": "code",
   "execution_count": 55,
   "metadata": {},
   "outputs": [
    {
     "name": "stdout",
     "output_type": "stream",
     "text": [
      "RF:\n",
      "testset:\n",
      "Accuracy_score: 0.8006781911314848\n",
      "recall:  0.8006781911314848\n",
      "precision:  0.8006781911314848\n",
      "f1_score:  0.8006781911314848\n",
      "\n",
      " trainset:\n",
      "Accuracy_score: 0.8010859156161484\n",
      "recall:  0.8010859156161484\n",
      "precision:  0.8010859156161484\n",
      "f1_score:  0.8010859156161484\n"
     ]
    }
   ],
   "source": [
    "print('RF:')\n",
    "\n",
    "# recall:  tp / (tp + fn) \n",
    "# precision:  tp / (tp + fp) \n",
    "# The best value is 1 and the worst value is 0.\n",
    "# F1 = 2 * (precision * recall) / (precision + recall)\n",
    "print(' testset:')\n",
    "RF_score(test_X, test_y)\n",
    "\n",
    "print('\\n trainset:')\n",
    "RF_score(train_X, train_y)"
   ]
  },
  {
   "cell_type": "code",
   "execution_count": null,
   "metadata": {},
   "outputs": [],
   "source": []
  }
 ],
 "metadata": {
  "kernelspec": {
   "display_name": "Python 3",
   "language": "python",
   "name": "python3"
  },
  "language_info": {
   "codemirror_mode": {
    "name": "ipython",
    "version": 3
   },
   "file_extension": ".py",
   "mimetype": "text/x-python",
   "name": "python",
   "nbconvert_exporter": "python",
   "pygments_lexer": "ipython3",
   "version": "3.6.4"
  }
 },
 "nbformat": 4,
 "nbformat_minor": 4
}
